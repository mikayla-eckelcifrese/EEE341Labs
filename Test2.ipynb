{
 "cells": [
  {
   "cell_type": "code",
   "execution_count": 25,
   "outputs": [],
   "source": [
    "from quantities import UnitQuantity, m, mm, pF, ohm, Hz, MHz, s, degree, GHz\n",
    "\n",
    "import numpy as np\n",
    "from numpy import pi, sqrt\n",
    "\n",
    "from sympy import latex\n",
    "from IPython.display import display, Math\n",
    "\n",
    "import skrf as rf\n",
    "from scipy.optimize import minimize\n",
    "\n",
    "\n",
    "def Units(x, units):\n",
    "    x.units = units\n",
    "    return x\n",
    "\n",
    "def split_off_units(x, decimal_places = None):\n",
    "    if decimal_places is not None:\n",
    "        x = round(x, decimal_places)\n",
    "    x = str(x)\n",
    "    return f'{x.split()[0]} \\\\text{{{x.split()[1]} }}'\n",
    "\n",
    "\n",
    "light_speed = 299792458 * m/s\n",
    "\n",
    "j = 1j"
   ],
   "metadata": {
    "collapsed": false,
    "ExecuteTime": {
     "start_time": "2023-05-03T02:03:56.408422Z",
     "end_time": "2023-05-03T02:03:56.416900Z"
    }
   }
  },
  {
   "cell_type": "markdown",
   "source": [
    "Single shunt stub matching problem"
   ],
   "metadata": {
    "collapsed": false
   }
  },
  {
   "cell_type": "code",
   "execution_count": 8,
   "outputs": [
    {
     "data": {
      "text/plain": "array(2.00006212-2.j) * ohm"
     },
     "execution_count": 8,
     "metadata": {},
     "output_type": "execute_result"
    }
   ],
   "source": [
    "f = 2.5*GHz\n",
    "Y_L = Units(1/(4*ohm) + 2*pi*f*15.915*pF*j, 'mS')\n",
    "Z_0 = 50*ohm\n",
    "\n",
    "Z_L = Units(1/Y_L, ohm)\n",
    "\n",
    "Z_L"
   ],
   "metadata": {
    "collapsed": false,
    "ExecuteTime": {
     "start_time": "2023-05-03T00:54:05.604174Z",
     "end_time": "2023-05-03T00:54:05.614008Z"
    }
   }
  },
  {
   "cell_type": "code",
   "execution_count": 22,
   "outputs": [
    {
     "data": {
      "text/plain": "<IPython.core.display.Math object>",
      "text/latex": "$\\displaystyle \\theta_{\\text{delay}} = 16.9944453302 ^\\circ$"
     },
     "metadata": {},
     "output_type": "display_data"
    },
    {
     "data": {
      "text/plain": "<IPython.core.display.Math object>",
      "text/latex": "$\\displaystyle \\theta_{\\text{stub}}=97.8017960788 ^\\circ$"
     },
     "metadata": {},
     "output_type": "display_data"
    },
    {
     "data": {
      "text/plain": "<IPython.core.display.Math object>",
      "text/latex": "$\\displaystyle \\text{Distance between stub and load} = 0.566 \\text{cm }$"
     },
     "metadata": {},
     "output_type": "display_data"
    },
    {
     "data": {
      "text/plain": "<IPython.core.display.Math object>",
      "text/latex": "$\\displaystyle \\text{Stub length} = 3.258 \\text{cm }$"
     },
     "metadata": {},
     "output_type": "display_data"
    }
   ],
   "source": [
    "# Frequency, wavenumber and transmission line media\n",
    "freq = rf.Frequency(start=1.5, stop=3.5, npoints=301, unit='GHz')\n",
    "k = freq.w / rf.c #angular frequency over speed of light\n",
    "line = rf.DefinedGammaZ0(freq, gamma= k*j, z0=Z_0)\n",
    "\n",
    "def resulting_network(theta_delay, theta_stub):\n",
    "    \"\"\"\n",
    "    Return a loaded single stub matching network\n",
    "\n",
    "    NB: theta_delay and theta_stub lengths are in deg\n",
    "    \"\"\"\n",
    "    delay_load = line.delay_load(rf.zl_2_Gamma0(Z_0, Z_L), theta_delay)\n",
    "    shunted_stub = line.shunt_delay_open(theta_stub)\n",
    "    return shunted_stub ** delay_load\n",
    "\n",
    "def optim_fun(x):\n",
    "    return resulting_network(x[0], x[1])['2GHz'].s_mag.ravel()\n",
    "\n",
    "x0 = (50, 50)\n",
    "bnd = (0, 180)\n",
    "theta_delay, theta_stub = minimize(optim_fun, x0, bounds=(bnd, bnd)).x\n",
    "\n",
    "line_delay_length = Units(theta_delay*degree*light_speed/(360*degree*f), 'cm')\n",
    "stub_length = Units(theta_stub*degree*light_speed/(360*degree*f), 'cm')\n",
    "\n",
    "display(Math(f'\\\\theta_{{\\\\text{{delay}}}} = {round(theta_delay, 10)} ^\\\\circ' ))\n",
    "display(Math(f'\\\\theta_{{\\\\text{{stub}}}}={round(theta_stub, 10)} ^\\\\circ'))\n",
    "\n",
    "display(Math(f'\\\\text{{Distance between stub and load}} = {split_off_units(round(line_delay_length, 3))}'))\n",
    "display(Math(f'\\\\text{{Stub length}} = {split_off_units(round(stub_length, 3))}'))\n",
    "\n",
    "Electrical_length = 151.4*degree\n",
    "v_p = light_speed\n",
    "\n",
    "Lambda = UnitQuantity('lambda', light_speed/f)"
   ],
   "metadata": {
    "collapsed": false,
    "ExecuteTime": {
     "start_time": "2023-05-03T01:39:20.864157Z",
     "end_time": "2023-05-03T01:39:23.648438Z"
    }
   }
  },
  {
   "cell_type": "code",
   "execution_count": 17,
   "outputs": [
    {
     "data": {
      "text/plain": "array(2.82847105) * ohm"
     },
     "execution_count": 17,
     "metadata": {},
     "output_type": "execute_result"
    }
   ],
   "source": [
    "abs(Z_L)"
   ],
   "metadata": {
    "collapsed": false,
    "ExecuteTime": {
     "start_time": "2023-05-03T01:34:03.719570Z",
     "end_time": "2023-05-03T01:34:03.725410Z"
    }
   }
  },
  {
   "cell_type": "code",
   "execution_count": 23,
   "outputs": [
    {
     "data": {
      "text/plain": "<IPython.core.display.Math object>",
      "text/latex": "$\\displaystyle \\theta_{\\text{delay}} = 16.9944453392 ^\\circ$"
     },
     "metadata": {},
     "output_type": "display_data"
    },
    {
     "data": {
      "text/plain": "<IPython.core.display.Math object>",
      "text/latex": "$\\displaystyle \\theta_{\\text{stub}}=97.8017960536 ^\\circ$"
     },
     "metadata": {},
     "output_type": "display_data"
    },
    {
     "data": {
      "text/plain": "<IPython.core.display.Math object>",
      "text/latex": "$\\displaystyle \\text{Distance between stub and load} = 0.566 \\text{cm }$"
     },
     "metadata": {},
     "output_type": "display_data"
    },
    {
     "data": {
      "text/plain": "<IPython.core.display.Math object>",
      "text/latex": "$\\displaystyle \\text{Stub length} = 3.258 \\text{cm }$"
     },
     "metadata": {},
     "output_type": "display_data"
    }
   ],
   "source": [
    "x0 = (40, 40)\n",
    "theta_delay, theta_stub = minimize(optim_fun, x0, bounds=(bnd, bnd)).x\n",
    "\n",
    "line_delay_length = Units(theta_delay*degree*light_speed/(360*degree*f), 'cm')\n",
    "stub_length = Units(theta_stub*degree*light_speed/(360*degree*f), 'cm')\n",
    "\n",
    "display(Math(f'\\\\theta_{{\\\\text{{delay}}}} = {round(theta_delay, 10)} ^\\\\circ' ))\n",
    "display(Math(f'\\\\theta_{{\\\\text{{stub}}}}={round(theta_stub, 10)} ^\\\\circ'))\n",
    "\n",
    "display(Math(f'\\\\text{{Distance between stub and load}} = {split_off_units(round(line_delay_length, 3))}'))\n",
    "display(Math(f'\\\\text{{Stub length}} = {split_off_units(round(stub_length, 3))}'))"
   ],
   "metadata": {
    "collapsed": false,
    "ExecuteTime": {
     "start_time": "2023-05-03T01:39:30.244079Z",
     "end_time": "2023-05-03T01:39:32.343963Z"
    }
   }
  },
  {
   "cell_type": "markdown",
   "source": [
    "Rectangular waveguide problem"
   ],
   "metadata": {
    "collapsed": false
   }
  },
  {
   "cell_type": "code",
   "execution_count": 26,
   "outputs": [
    {
     "data": {
      "text/plain": "array(4.00000707) * GHz"
     },
     "execution_count": 26,
     "metadata": {},
     "output_type": "execute_result"
    }
   ],
   "source": [
    "a = 58.166*mm\n",
    "d = 49.056*mm\n",
    "\n",
    "f_101 = (3E8*(m/s)/2)*sqrt(1/a**2 + 1/d**2)\n",
    "Units(f_101, GHz)"
   ],
   "metadata": {
    "collapsed": false,
    "ExecuteTime": {
     "start_time": "2023-05-03T02:04:39.368436Z",
     "end_time": "2023-05-03T02:04:39.375498Z"
    }
   }
  }
 ],
 "metadata": {
  "kernelspec": {
   "display_name": "Python 3",
   "language": "python",
   "name": "python3"
  },
  "language_info": {
   "codemirror_mode": {
    "name": "ipython",
    "version": 2
   },
   "file_extension": ".py",
   "mimetype": "text/x-python",
   "name": "python",
   "nbconvert_exporter": "python",
   "pygments_lexer": "ipython2",
   "version": "2.7.6"
  }
 },
 "nbformat": 4,
 "nbformat_minor": 0
}
