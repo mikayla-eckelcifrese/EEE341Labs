{
 "cells": [
  {
   "cell_type": "markdown",
   "source": [
    "# Pre-lab Section\n",
    "Consider the schematic captured from ADS that is shown in Figure 3.1.  Note that a load impedance of 50MΩ is shown, but you will be making calculations and simulations with several different values of load impedance.  Given that the transmission line comprises a coaxial cable with dielectric constant of 2.1, calculate the velocity of propagation and the time that it takes for a disturbance at the generator end of the line to arrive at the load T for a cable of length 1000 feet. Record these values in the appropriate locations in Table 1 for comparison to the values obtained during the simulation experiment.\n"
   ],
   "metadata": {
    "collapsed": false,
    "pycharm": {
     "name": "#%% md\n"
    }
   }
  },
  {
   "cell_type": "code",
   "execution_count": null,
   "outputs": [],
   "source": [],
   "metadata": {
    "collapsed": false,
    "pycharm": {
     "name": "#%%\n"
    }
   }
  }
 ],
 "metadata": {
  "kernelspec": {
   "display_name": "Python 3",
   "language": "python",
   "name": "python3"
  },
  "language_info": {
   "codemirror_mode": {
    "name": "ipython",
    "version": 2
   },
   "file_extension": ".py",
   "mimetype": "text/x-python",
   "name": "python",
   "nbconvert_exporter": "python",
   "pygments_lexer": "ipython2",
   "version": "2.7.6"
  }
 },
 "nbformat": 4,
 "nbformat_minor": 0
}