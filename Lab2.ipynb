{
 "cells": [
  {
   "cell_type": "code",
   "execution_count": 9,
   "metadata": {
    "pycharm": {
     "name": "#%%\n"
    }
   },
   "outputs": [],
   "source": [
    "import numpy as np\n",
    "from numpy import sin, cos, arcsin, arccos, pi, sqrt, vectorize\n",
    "from pandas import DataFrame, concat\n",
    "import quantities as units\n",
    "from quantities import UnitQuantity, C, N, m, A, mm, V, F, pF, H, ohm, Hz, MHz, S, s, kg, mS, rad, degree, GHz\n",
    "from sympy import latex\n",
    "from IPython.display import display, Math\n",
    "\n",
    "def Units(x, units):\n",
    "    x.units = units\n",
    "    return x\n",
    "\n",
    "epsilon0 = 8.854187817 * 10 ** (-12) * C ** 2 / (N * m ** 2)\n",
    "mu0 = 4 * pi * 10 ** (-7) * N / (A ** 2)\n",
    "light_speed = 299792458 * m/s\n",
    "\n",
    "Np = UnitQuantity('Np', 1);  '''neper is a dimensionless unit that functions\n",
    "                               like the decible but with base e instead of base 10'''\n",
    "c_unit = UnitQuantity('c', light_speed)\n",
    "\n",
    "Ft = UnitQuantity('Ft', 0.304799999536704*m)\n",
    "\n",
    "dB = UnitQuantity('dB', Np * np.log(10)/20)\n",
    "nH = UnitQuantity('nH', H * 1e-9)\n",
    "\n",
    "j = 1j"
   ]
  },
  {
   "cell_type": "markdown",
   "metadata": {
    "pycharm": {
     "name": "#%% md\n"
    }
   },
   "source": [
    "# Pre-lab Section\n",
    "Consider the schematic captured from ADS that is shown in Figure 3.1.  Note that a load impedance of 50MΩ is shown, but you will be making calculations and simulations with several different values of load impedance.  Given that the transmission line comprises a coaxial cable with dielectric constant of 2.1, calculate the velocity of propagation and the time that it takes for a disturbance at the generator end of the line to arrive at the load T for a cable of length 1000 feet. Record these values in the appropriate locations in Table 1 for comparison to the values obtained during the simulation experiment.\n"
   ]
  },
  {
   "cell_type": "code",
   "execution_count": 3,
   "metadata": {
    "pycharm": {
     "name": "#%%\n"
    }
   },
   "outputs": [
    {
     "data": {
      "text/plain": "<IPython.core.display.Math object>",
      "text/latex": "$\\displaystyle \\text{Velocity of propagation} = \\mathtt{\\text{2.06876E+08 m/s}} = 0.69 c$"
     },
     "metadata": {},
     "output_type": "display_data"
    },
    {
     "data": {
      "text/plain": "<IPython.core.display.Math object>",
      "text/latex": "$\\displaystyle \\text{Time} = \\mathtt{\\text{1.47334E-06 s}}$"
     },
     "metadata": {},
     "output_type": "display_data"
    }
   ],
   "source": [
    "'''assuming lossless cable, as insufficient information is provided to calculate it for a lossy cable'''\n",
    "def prop_velocity(epsilon_r):\n",
    "    return light_speed/sqrt(epsilon_r)\n",
    "\n",
    "v_p = prop_velocity(2.1).simplified\n",
    "\n",
    "display(Math(f'\\\\text{{Velocity of propagation}} = {latex(\"{:.5E}\".format(prop_velocity(2.1).simplified))} = '\n",
    "             f'{round(Units(v_p, c_unit), 3)}'))\n",
    "\n",
    "display(Math(f'\\\\text{{Time}} = {latex(\"{:.5E}\".format((1000*Ft/v_p).simplified))}'))"
   ]
  },
  {
   "cell_type": "markdown",
   "source": [
    "Assuming that the transmission line has characteristic impedance $Z_0 = 50 \\Omega$\n",
    ", calculate the reflection coefficient $\\Gamma_L$ for the following load terminations:\n",
    "1. $Z_L = \\infty$\n",
    "2. $Z_L = 100\\Omega$\n",
    "\n",
    "3. $Z_L = 50\\Omega$\n",
    "\n",
    "4. $Z_L = 25\\Omega$\n",
    "\n",
    "5. $Z_L = 0$\n"
   ],
   "metadata": {
    "collapsed": false,
    "pycharm": {
     "name": "#%% md\n"
    }
   }
  },
  {
   "cell_type": "code",
   "execution_count": 39,
   "metadata": {
    "pycharm": {
     "name": "#%%\n"
    }
   },
   "outputs": [
    {
     "data": {
      "text/plain": "   Z_L (Ohms)  Gamma_L (Theory)\n0       100.0          0.333333\n1        50.0          0.000000\n2        25.0         -0.333333\n3         0.0         -1.000000\n4         inf          1.000000",
      "text/html": "<div>\n<style scoped>\n    .dataframe tbody tr th:only-of-type {\n        vertical-align: middle;\n    }\n\n    .dataframe tbody tr th {\n        vertical-align: top;\n    }\n\n    .dataframe thead th {\n        text-align: right;\n    }\n</style>\n<table border=\"1\" class=\"dataframe\">\n  <thead>\n    <tr style=\"text-align: right;\">\n      <th></th>\n      <th>Z_L (Ohms)</th>\n      <th>Gamma_L (Theory)</th>\n    </tr>\n  </thead>\n  <tbody>\n    <tr>\n      <th>0</th>\n      <td>100.0</td>\n      <td>0.333333</td>\n    </tr>\n    <tr>\n      <th>1</th>\n      <td>50.0</td>\n      <td>0.000000</td>\n    </tr>\n    <tr>\n      <th>2</th>\n      <td>25.0</td>\n      <td>-0.333333</td>\n    </tr>\n    <tr>\n      <th>3</th>\n      <td>0.0</td>\n      <td>-1.000000</td>\n    </tr>\n    <tr>\n      <th>4</th>\n      <td>inf</td>\n      <td>1.000000</td>\n    </tr>\n  </tbody>\n</table>\n</div>"
     },
     "execution_count": 39,
     "metadata": {},
     "output_type": "execute_result"
    }
   ],
   "source": [
    "infinity = np.inf\n",
    "@vectorize\n",
    "def Gamma_L(Z0, ZL):\n",
    "  if ZL != infinity:\n",
    "    sum = ZL+Z0\n",
    "    difference = ZL-Z0\n",
    "    return difference/sum\n",
    "  else:\n",
    "    return 1\n",
    "\n",
    "ZL_theory = [100, 50, 25, 0, infinity]\n",
    "ZL_simulation = []\n",
    "DataFrame({ 'Z_L (Ohms)':ZL_theory, 'Gamma_L (Theory)': Gamma_L(Z0 = 50, ZL = ZL_theory) * ohm})\n"
   ]
  },
  {
   "cell_type": "code",
   "execution_count": null,
   "outputs": [],
   "source": [],
   "metadata": {
    "collapsed": false,
    "pycharm": {
     "name": "#%%\n"
    }
   }
  }
 ],
 "metadata": {
  "kernelspec": {
   "display_name": "Python 3 (ipykernel)",
   "language": "python",
   "name": "python3"
  },
  "language_info": {
   "codemirror_mode": {
    "name": "ipython",
    "version": 3
   },
   "file_extension": ".py",
   "mimetype": "text/x-python",
   "name": "python",
   "nbconvert_exporter": "python",
   "pygments_lexer": "ipython3",
   "version": "3.11.0"
  }
 },
 "nbformat": 4,
 "nbformat_minor": 1
}