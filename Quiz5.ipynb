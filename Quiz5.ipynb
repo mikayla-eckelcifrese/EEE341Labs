{
 "cells": [
  {
   "cell_type": "code",
   "execution_count": 2,
   "metadata": {
    "collapsed": true,
    "ExecuteTime": {
     "start_time": "2023-04-30T00:31:55.446314Z",
     "end_time": "2023-04-30T00:31:56.014491Z"
    }
   },
   "outputs": [],
   "source": [
    "import quantities as units\n",
    "from quantities import UnitQuantity, C, N, m, A, mm, V, F, pF, H, ohm, Hz, MHz, S, s, kg, mS, rad, degree, GHz\n",
    "from numpy import pi, log10, e, real, sqrt, imag, exp\n",
    "import numpy as np\n",
    "from sympy import latex, lambdify, symbols, solve, cosh, cos, sin, asin, acos, acosh, nsolve, re, I, simplify\n",
    "import sympy as sym\n",
    "from IPython.display import display, Math\n",
    "\n",
    "\n",
    "def Units(x, units):\n",
    "    x.units = units\n",
    "    return x\n",
    "\n",
    "\n",
    "epsilon0 = 8.854187817 * 10 ** (-12) * C ** 2 / (N * m ** 2)\n",
    "mu0 = 4 * pi * 10 ** (-7) * N / (A ** 2)\n",
    "light_speed = 299792458 * m/s\n",
    "\n",
    "\n",
    "Np = UnitQuantity('Np', 1);  '''neper is a dimensionless unit that functions\n",
    "                               like the decible but with base e instead of base 10'''\n",
    "\n",
    "dB = UnitQuantity('dB', Np * np.log(10)/20)\n",
    "nH = UnitQuantity('nH', H * 1e-9)\n",
    "\n",
    "j = 1j"
   ]
  },
  {
   "cell_type": "markdown",
   "source": [
    "The following information pertains to Questions 5 - 6.\n",
    "\n",
    "Consider the design of a single stub matching network (MN) for ZL = (150 + j 50) Ω and Z0 = 50 Ω.  Assume a shunt short-circuited stub.  Hint: You can use a Smith chart or the appropriate MATLAB routine to make the required computations."
   ],
   "metadata": {
    "collapsed": false
   }
  },
  {
   "cell_type": "markdown",
   "source": [
    "# 5\n",
    "\n",
    "What is the shortest length (in wavelengths) of stub that can be used in the MN?  Type your answer in wavelengths to three places after the decimal.\n",
    "\n",
    "Equation to match load impedance to transmission impedance via single stub shunt matching:\n",
    "\n",
    "$$\n",
    "\\Re(Y_0)=\\Re\\left(Y_0\\frac{1-\\Gamma\\exp(-4\\pi j\\frac{L}{\\lambda})}{1+\\Gamma\\exp(-4\\pi j\\frac{L}{\\lambda})\\right)\n",
    "$$\n",
    "\n",
    "where:\n",
    "$$\n",
    "\\Gamma = \\frac{Z_L-Z_0}{Z_L + Z_0}\n",
    "$$"
   ],
   "metadata": {
    "collapsed": false
   }
  },
  {
   "cell_type": "code",
   "execution_count": 3,
   "outputs": [
    {
     "data": {
      "text/plain": "0.188015191838282",
      "text/latex": "$\\displaystyle 0.188015191838282$"
     },
     "execution_count": 3,
     "metadata": {},
     "output_type": "execute_result"
    }
   ],
   "source": [
    "Z_0 = 50*ohm\n",
    "Z_l = (150 + 50*I)*ohm\n",
    "#Z_l_normalized = Z_l/Z_0\n",
    "\n",
    "Y_0 = 1/Z_0\n",
    "#Y_L = 1/Z_l_normalized\n",
    "\n",
    "gamma = (Z_l-Z_0)/(Z_l+Z_0)\n",
    "\n",
    "L_per_lambda = symbols('\\\\frac{L}{\\lambda}')\n",
    "\n",
    "eq = re(Y_0.item()*(1-gamma*sym.exp(-4*sym.pi*I*L_per_lambda))/(1+gamma*sym.exp(-4*sym.pi*I*L_per_lambda))) - re(Y_0.item())\n",
    "nsolve(eq, L_per_lambda, (0, 0.25), solver = 'bisect')"
   ],
   "metadata": {
    "collapsed": false,
    "ExecuteTime": {
     "start_time": "2023-04-30T00:32:11.004054Z",
     "end_time": "2023-04-30T00:32:11.328716Z"
    }
   }
  },
  {
   "cell_type": "code",
   "execution_count": 57,
   "outputs": [
    {
     "data": {
      "text/plain": "1.0*(-0.141656585888907 + 0.239489343404586*I)*exp(-4*I*pi*\\frac{L}{\\lambda})",
      "text/latex": "$\\displaystyle 1.0 \\left(-0.141656585888907 + 0.239489343404586 i\\right) e^{- 4 i \\pi \\frac{L}{\\lambda}}$"
     },
     "execution_count": 57,
     "metadata": {},
     "output_type": "execute_result"
    }
   ],
   "source": [
    "(gamma*sym.exp(-4*sym.pi*I*L_per_lambda)).simplify()"
   ],
   "metadata": {
    "collapsed": false
   }
  },
  {
   "cell_type": "code",
   "execution_count": 78,
   "outputs": [
    {
     "data": {
      "text/plain": "array([0.1  , 0.145, 0.19 , 0.235, 0.28 , 0.325, 0.37 , 0.415, 0.46 ,\n       0.505, 0.55 , 0.595, 0.64 , 0.685, 0.73 , 0.775, 0.82 , 0.865,\n       0.91 , 0.955, 1.   ])"
     },
     "execution_count": 78,
     "metadata": {},
     "output_type": "execute_result"
    }
   ],
   "source": [
    "np.linspace(0.1, 1, num = 21)"
   ],
   "metadata": {
    "collapsed": false
   }
  },
  {
   "cell_type": "code",
   "execution_count": 79,
   "outputs": [
    {
     "data": {
      "text/plain": "0.1225"
     },
     "execution_count": 79,
     "metadata": {},
     "output_type": "execute_result"
    }
   ],
   "source": [
    "(0.1+0.145)/2"
   ],
   "metadata": {
    "collapsed": false
   }
  },
  {
   "cell_type": "code",
   "execution_count": 80,
   "outputs": [
    {
     "data": {
      "text/plain": "array([0.48 , 0.482, 0.484, 0.486, 0.488, 0.49 ])"
     },
     "execution_count": 80,
     "metadata": {},
     "output_type": "execute_result"
    }
   ],
   "source": [
    "np.linspace(0.48, 0.49, num = 6)"
   ],
   "metadata": {
    "collapsed": false
   }
  },
  {
   "cell_type": "code",
   "execution_count": null,
   "outputs": [],
   "source": [],
   "metadata": {
    "collapsed": false
   }
  }
 ],
 "metadata": {
  "kernelspec": {
   "display_name": "Python 3",
   "language": "python",
   "name": "python3"
  },
  "language_info": {
   "codemirror_mode": {
    "name": "ipython",
    "version": 2
   },
   "file_extension": ".py",
   "mimetype": "text/x-python",
   "name": "python",
   "nbconvert_exporter": "python",
   "pygments_lexer": "ipython2",
   "version": "2.7.6"
  }
 },
 "nbformat": 4,
 "nbformat_minor": 0
}
