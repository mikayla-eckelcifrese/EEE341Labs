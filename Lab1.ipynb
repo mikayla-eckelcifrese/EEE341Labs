{
 "cells": [
  {
   "cell_type": "markdown",
   "source": [
    "# Lab 1: Reflectance of Plane Waves\n",
    "Mikayla Eckel  Cifrese"
   ],
   "metadata": {
    "collapsed": false,
    "pycharm": {
     "name": "#%% md\n"
    }
   }
  },
  {
   "cell_type": "code",
   "execution_count": 4,
   "outputs": [],
   "source": [
    "%matplotlib widget"
   ],
   "metadata": {
    "collapsed": false,
    "pycharm": {
     "name": "#%%\n"
    }
   }
  },
  {
   "cell_type": "code",
   "execution_count": 10,
   "outputs": [],
   "source": [
    "import numpy as np\n",
    "import sympy as sy\n",
    "\n",
    "from numpy import sin, cos, arcsin, arccos\n",
    "\n",
    "from plotly.express import scatter, line\n",
    "from pandas import DataFrame\n",
    "\n",
    "pi = np.pi\n",
    "mu0 = 4*pi*10**(-7) #in N/(A^2)\n",
    "epsilon0 = 8.854187817 * 10**(-12) #in (C^2)/(N m^2)\n",
    "refractive_index_air = 1.0003"
   ],
   "metadata": {
    "collapsed": false,
    "pycharm": {
     "name": "#%%\n"
    }
   }
  },
  {
   "cell_type": "markdown",
   "source": [
    "# Prelab"
   ],
   "metadata": {
    "collapsed": false,
    "pycharm": {
     "name": "#%% md\n"
    }
   }
  },
  {
   "cell_type": "markdown",
   "source": [
    "Consider an experiment in which a polarized beam of laser light is incident on a plastic surface. Assume the plastic has a relative permittivity of $\\varepsilon_{r2}=2.3$ and a relative permeability of $\\mu_{r2}=1$. Plot the theoretical reflectance values for both parallel and perpendicular polarizations: $R_p$ vs $\\theta_i$ and $R_s$ vs $\\theta_i$, respectively, for $0^\\circ\\le\\theta_i\\le{90}^\\circ$."
   ],
   "metadata": {
    "collapsed": false,
    "pycharm": {
     "name": "#%% md\n"
    }
   }
  },
  {
   "cell_type": "code",
   "execution_count": 11,
   "outputs": [],
   "source": [
    "def reflectance(epsilon_r, mu_r, theta_incident, type):\n",
    "  epsilon = epsilon0*epsilon_r\n",
    "  mu = mu0*mu_r\n",
    "\n",
    "  n1 = refractive_index_air\n",
    "  n2 = (mu*epsilon)**0.5 #definition of refractive index\n",
    "  theta_transmitted = arcsin(sin(theta_incident*pi/180)*n1/n2) #Solving Snell's law for theta2\n",
    "\n",
    "  #intrinsic impedance of free space; should technically be for air, but can be approximated using free space value\n",
    "  eta1 = (mu0/epsilon0)**0.5\n",
    "  #intrinsic impedance of medium\n",
    "  eta2 = (mu/epsilon)**0.5\n",
    "\n",
    "  if type == \"p\":\n",
    "    gamma = (eta1 * cos(theta_incident) - eta2 * cos(theta_transmitted)) / (eta1 * cos(theta_incident) + eta2 * cos(theta_transmitted))\n",
    "\n",
    "  if type == 's':\n",
    "    gamma = (eta2 * cos(theta_incident) - eta1 * cos(theta_transmitted)) / (eta1 * cos(theta_transmitted) + eta2 * cos(theta_incident))\n",
    "\n",
    "  else:\n",
    "    print('Invalid value entered for type')\n",
    "    return('error')\n",
    "\n",
    "  reflectance = gamma**2\n",
    "\n",
    "  return reflectance"
   ],
   "metadata": {
    "collapsed": false,
    "pycharm": {
     "name": "#%%\n"
    }
   }
  },
  {
   "cell_type": "code",
   "execution_count": null,
   "outputs": [],
   "source": [
    "theta_incident = np.linspace(0, 90, num = 500)\n",
    "reflectance_p = []\n",
    "reflectance_s = []\n",
    "\n",
    "for i in theta_incident:\n",
    "  reflectance_p.append(reflectance(2.3, 1, i, 'p'))\n",
    "  reflectance_s.append(reflectance(2.3, 1, i, 's'))\n",
    "\n"
   ],
   "metadata": {
    "collapsed": false,
    "pycharm": {
     "name": "#%%\n"
    }
   }
  }
 ],
 "metadata": {
  "kernelspec": {
   "display_name": "Python 3",
   "language": "python",
   "name": "python3"
  },
  "language_info": {
   "codemirror_mode": {
    "name": "ipython",
    "version": 2
   },
   "file_extension": ".py",
   "mimetype": "text/x-python",
   "name": "python",
   "nbconvert_exporter": "python",
   "pygments_lexer": "ipython2",
   "version": "2.7.6"
  }
 },
 "nbformat": 4,
 "nbformat_minor": 0
}