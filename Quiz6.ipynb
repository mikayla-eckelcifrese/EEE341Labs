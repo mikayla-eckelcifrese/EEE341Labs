{
 "cells": [
  {
   "cell_type": "code",
   "execution_count": 1,
   "metadata": {
    "ExecuteTime": {
     "start_time": "2023-04-30T00:32:24.946390Z",
     "end_time": "2023-04-30T00:32:25.367814Z"
    }
   },
   "outputs": [],
   "source": [
    "import quantities as units\n",
    "from quantities import UnitQuantity, C, N, m, A, mm, V, F, pF, H, ohm, Hz, MHz, S, s, kg, mS, rad, degree, GHz, cm\n",
    "from numpy import pi, log10, e, real, sqrt, imag, exp\n",
    "import numpy as np\n",
    "from sympy import latex, lambdify, symbols, solve, cosh, cos, sin, asin, acos, acosh\n",
    "from IPython.display import display, Math\n",
    "import re\n",
    "\n",
    "\n",
    "def Units(x, units):\n",
    "    x.units = units\n",
    "    return x\n",
    "\n",
    "\n",
    "epsilon0 = 8.854187817 * 10 ** (-12) * C ** 2 / (N * m ** 2)\n",
    "mu0 = 4 * pi * 10 ** (-7) * N / (A ** 2)\n",
    "Z_0 = 120*pi*ohm\n",
    "light_speed = 299792458 * m/s\n",
    "\n",
    "\n",
    "Np = UnitQuantity('Np', 1)\n",
    "'''neper is a dimensionless unit that functions\n",
    "                               like the decible but with base e instead of base 10'''\n",
    "\n",
    "dB = UnitQuantity('dB', Np * np.log(10)/20)\n",
    "nH = UnitQuantity('nH', H * 1e-9)\n",
    "\n",
    "j = 1j"
   ]
  },
  {
   "cell_type": "markdown",
   "source": [
    "The following information pertains to Questions 1 – 3.\n",
    "\n",
    "A certain waveguide comprising only perfectly conducting walls and air supports a $TE_1$ mode with a cutoff frequency of $6.2 \\text{GHz}$, and a $TE_2$  mode with a cutoff frequency of $12.4 \\text{GHz}$."
   ],
   "metadata": {
    "collapsed": false
   }
  },
  {
   "cell_type": "markdown",
   "source": [
    "1. \n",
    "What is the guide wavelength of the $TE_1$  mode at 8.6 GHz ?   \n",
    "Type your answer in millimeters to one place after the decimal."
   ],
   "metadata": {
    "collapsed": false
   }
  },
  {
   "cell_type": "code",
   "execution_count": 21,
   "outputs": [
    {
     "data": {
      "text/plain": "array(50.30188087) * mm"
     },
     "execution_count": 21,
     "metadata": {},
     "output_type": "execute_result"
    }
   ],
   "source": [
    "f = 8.6*GHz\n",
    "f_c = 6.2*GHz\n",
    "Lambda = light_speed/f\n",
    "\n",
    "lamdba_g = Units(Lambda/sqrt(1-(f_c/f)**2), 'mm')\n",
    "lamdba_g"
   ],
   "metadata": {
    "collapsed": false
   }
  },
  {
   "cell_type": "markdown",
   "source": [
    "2.\n",
    "What is the wave impedance of the $TE_1$  mode at 10 GHz?   Type your answer in ohms to one place after the decimal."
   ],
   "metadata": {
    "collapsed": false
   }
  },
  {
   "cell_type": "code",
   "execution_count": 4,
   "outputs": [
    {
     "data": {
      "text/plain": "array(480.48718943) * ohm"
     },
     "execution_count": 4,
     "metadata": {},
     "output_type": "execute_result"
    }
   ],
   "source": [
    "f = 10*GHz\n",
    "\n",
    "#Note Well: That's only the equation for TE modes, not TM modes\n",
    "Z = Z_0/sqrt(1-(f_c/f)**2)\n",
    "Z"
   ],
   "metadata": {
    "collapsed": false
   }
  },
  {
   "cell_type": "markdown",
   "source": [
    "The following information pertains to Questions 4 – 5.  The table below, taken from Pozar’s book, shows information about standard waveguides.  The quiz questions focus on WR-62 waveguide.  All waveguides below are assumed to be air-filled."
   ],
   "metadata": {
    "collapsed": false
   }
  },
  {
   "cell_type": "markdown",
   "source": [
    "4.\n",
    "What is the ratio of the phase velocity of the $TE_{10}$ mode at 12.2 GHz to the speed of light in air?\n",
    "Type your answer as a dimensionless quantity (vp/c) to three places after the decimal."
   ],
   "metadata": {
    "collapsed": false
   }
  },
  {
   "cell_type": "code",
   "execution_count": 19,
   "outputs": [
    {
     "data": {
      "text/plain": "array(1.59024919) * dimensionless"
     },
     "execution_count": 19,
     "metadata": {},
     "output_type": "execute_result"
    }
   ],
   "source": [
    "f_c = 9.486*GHz\n",
    "f = 12.2*GHz\n",
    "epsilonr = 1\n",
    "\n",
    "v_p = (light_speed/sqrt(epsilonr))/sqrt(1-(f_c/f)**2)\n",
    "(v_p/(3*10**8*m/s))\n",
    "(v_p/light_speed).simplified"
   ],
   "metadata": {
    "collapsed": false
   }
  },
  {
   "cell_type": "markdown",
   "source": [
    "The following information pertains to Questions 6 – 8.  Refer to the table shown above, taken from Pozar’s book, presenting information about standard rectangular waveguides.  The questions focus on WR-90 waveguide.  All waveguides below are assumed to be air-filled.  Use c = 3e8 m/s for calculations in these two problems.\n",
    "\n"
   ],
   "metadata": {
    "collapsed": false
   }
  },
  {
   "cell_type": "markdown",
   "source": [
    "7.\n",
    "If d = 15.2 mm, then what is the resonant frequency of the cavity?  Type your answer in GHz to three places after the decimal."
   ],
   "metadata": {
    "collapsed": false
   }
  },
  {
   "cell_type": "code",
   "execution_count": 30,
   "outputs": [
    {
     "data": {
      "text/plain": "array(11.85079642) * GHz"
     },
     "execution_count": 30,
     "metadata": {},
     "output_type": "execute_result"
    }
   ],
   "source": [
    "#from question 6, dominant mode is TE101\n",
    "#equations for resonant frequency of TE101 mode\n",
    "\n",
    "a = 22.86*mm\n",
    "d = 15.2*mm\n",
    "\n",
    "f_101 = (3E8*(m/s)/2)*sqrt(1/a**2 + 1/d**2)\n",
    "Units(f_101, GHz)"
   ],
   "metadata": {
    "collapsed": false
   }
  },
  {
   "cell_type": "markdown",
   "source": [],
   "metadata": {
    "collapsed": false
   }
  },
  {
   "cell_type": "markdown",
   "metadata": {},
   "source": [
    "1. \n",
    "What is the guide wavelength of the $TE_1$  mode at 8.6 GHz ?   \n",
    "Type your answer in millimeters to one place after the decimal."
   ]
  }
 ],
 "metadata": {
  "kernelspec": {
   "display_name": "Python 3 (ipykernel)",
   "language": "python",
   "name": "python3"
  },
  "language_info": {
   "codemirror_mode": {
    "name": "ipython",
    "version": 3
   },
   "file_extension": ".py",
   "mimetype": "text/x-python",
   "name": "python",
   "nbconvert_exporter": "python",
   "pygments_lexer": "ipython3",
   "version": "3.11.3"
  }
 },
 "nbformat": 4,
 "nbformat_minor": 1
}
