{
 "cells": [
  {
   "cell_type": "code",
   "execution_count": 9,
   "outputs": [],
   "source": [
    "import quantities as units\n",
    "from quantities import UnitQuantity, C, N, m, A, mm, V, F, pF, H, ohm, Hz, MHz, S, s, kg, mS, rad, degree, GHz, W, mW\n",
    "from numpy import pi, log10, e, real, sqrt, imag, exp\n",
    "import numpy as np\n",
    "import sympy as sy\n",
    "from sympy import latex, lambdify, symbols, solve, cosh, cos, sin, \\\n",
    "    asin, acos, acosh, nsolve, re, I, simplify, integrate, maximum\n",
    "import sympy as sym\n",
    "from IPython.display import display, Math\n",
    "\n",
    "\n",
    "def Units(x, units):\n",
    "    x.units = units\n",
    "    return x\n",
    "\n",
    "\n",
    "epsilon0 = 8.854187817 * 10 ** (-12) * C ** 2 / (N * m ** 2)\n",
    "mu0 = 4 * pi * 10 ** (-7) * N / (A ** 2)\n",
    "light_speed = 299792458 * m/s\n",
    "\n",
    "\n",
    "Np = UnitQuantity('Np', 1);  '''neper is a dimensionless unit that functions\n",
    "                               like the decible but with base e instead of base 10'''\n",
    "\n",
    "dB = UnitQuantity('dB', Np * np.log(10)/20)\n",
    "nH = UnitQuantity('nH', H * 1e-9)\n",
    "\n",
    "j = 1j"
   ],
   "metadata": {
    "collapsed": false,
    "ExecuteTime": {
     "start_time": "2023-04-30T00:51:20.302752Z",
     "end_time": "2023-04-30T00:51:20.318702Z"
    }
   }
  },
  {
   "cell_type": "markdown",
   "source": [
    "Horn antenna with radiation pattern\n",
    "\n",
    "<img src=\"radiation-pattern-function.jpg\">"
   ],
   "metadata": {
    "collapsed": false
   }
  },
  {
   "cell_type": "markdown",
   "source": [
    "Find total radiated power for $U_0 = 71$ mw/st"
   ],
   "metadata": {
    "collapsed": false
   }
  },
  {
   "cell_type": "code",
   "execution_count": 42,
   "outputs": [
    {
     "data": {
      "text/plain": "63.7294509728215",
      "text/latex": "$\\displaystyle 63.7294509728215$"
     },
     "execution_count": 42,
     "metadata": {},
     "output_type": "execute_result"
    }
   ],
   "source": [
    "u0 = 71*mW\n",
    "\n",
    "theta, phi = symbols('theta phi')\n",
    "\n",
    "power = u0.magnitude*integrate(integrate(cos(theta)**6 * sin(theta), (theta, 0, sy.pi/2)), (phi, 2*sy.pi))\n",
    "sy.N(power)"
   ],
   "metadata": {
    "collapsed": false,
    "ExecuteTime": {
     "start_time": "2023-04-30T02:14:06.148406Z",
     "end_time": "2023-04-30T02:14:06.161123Z"
    }
   }
  },
  {
   "cell_type": "markdown",
   "source": [
    "maximum directivity"
   ],
   "metadata": {
    "collapsed": false
   }
  },
  {
   "cell_type": "code",
   "execution_count": 43,
   "outputs": [
    {
     "data": {
      "text/plain": "11.4612803567824",
      "text/latex": "$\\displaystyle 11.4612803567824$"
     },
     "execution_count": 43,
     "metadata": {},
     "output_type": "execute_result"
    }
   ],
   "source": [
    "U = u0.magnitude*cos(theta)**6\n",
    "\n",
    "directive_gain = 4*pi*U/power\n",
    "\n",
    "directivity = maximum(directive_gain, theta)\n",
    "\n",
    "sy.N(10*sy.log(directivity, 10)) #answer in dB"
   ],
   "metadata": {
    "collapsed": false,
    "ExecuteTime": {
     "start_time": "2023-04-30T02:14:08.432559Z",
     "end_time": "2023-04-30T02:14:08.643158Z"
    }
   }
  },
  {
   "cell_type": "markdown",
   "source": [
    "angle of directivity"
   ],
   "metadata": {
    "collapsed": false
   }
  }
 ],
 "metadata": {
  "kernelspec": {
   "display_name": "Python 3",
   "language": "python",
   "name": "python3"
  },
  "language_info": {
   "codemirror_mode": {
    "name": "ipython",
    "version": 2
   },
   "file_extension": ".py",
   "mimetype": "text/x-python",
   "name": "python",
   "nbconvert_exporter": "python",
   "pygments_lexer": "ipython2",
   "version": "2.7.6"
  }
 },
 "nbformat": 4,
 "nbformat_minor": 0
}
