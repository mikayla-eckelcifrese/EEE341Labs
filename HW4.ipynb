{
 "cells": [
  {
   "cell_type": "code",
   "execution_count": 40,
   "metadata": {
    "collapsed": true,
    "pycharm": {
     "name": "#%%\n"
    }
   },
   "outputs": [],
   "source": [
    "import quantities as units\n",
    "from quantities import UnitQuantity, C, N, m, A, mm, V, F, \\\n",
    "  pF, H, ohm, Hz, MHz, S, s, kg, mS, rad\n",
    "from numpy import pi, log10, e, real, sqrt, imag\n",
    "from sympy import latex, lambdify, symbols\n",
    "\n",
    "def Units(x, units):\n",
    "  x.units = units\n",
    "  return x"
   ]
  },
  {
   "cell_type": "code",
   "execution_count": 36,
   "outputs": [],
   "source": [
    "epsilon0 = 8.854187817 * 10**(-12) * C**2/(N*m**2)\n",
    "mu0 = 4*pi*10**(-7) * N/(A**2)\n",
    "\n",
    "Np = UnitQuantity('Np', 1) #neper is a dimensionless unit that functions like the decible but with base e instead of base 10\n",
    "dB = UnitQuantity('dB', Np/log10(e))\n",
    "nH = UnitQuantity('nH', H*1e-9)"
   ],
   "metadata": {
    "collapsed": false,
    "pycharm": {
     "name": "#%%\n"
    }
   }
  },
  {
   "cell_type": "markdown",
   "source": [
    "# 1"
   ],
   "metadata": {
    "collapsed": false,
    "pycharm": {
     "name": "#%% md\n"
    }
   }
  },
  {
   "cell_type": "markdown",
   "source": [
    "Transmission line of parallel brass strips with $\\sigma_\\text{conductor} =1.6\\cdot 10^7 \\frac{\\text{S}}{\\text{m}}, w_\\text{conductor} = 20\\text{ mm}, \\epsilon_r=3, \\mu = \\mu_0$,\n",
    "$\\sigma_\\text{dielectric} = 10^{-3}\\frac{\\text{S}}{\\text{m}}, d_\\text{dieletric} = 2.5 \\text{ mm}, \\text{ and}, f = 500\\text{ MHz}$.\n",
    "1. Find $R, L, G$, and $C$\n",
    "2. Compare magnitiudes of the axial and transmission components of $E$ field.\n",
    "3. Find $\\gamma$ and $Z_0$."
   ],
   "metadata": {
    "collapsed": false,
    "pycharm": {
     "name": "#%% md\n"
    }
   }
  },
  {
   "cell_type": "markdown",
   "source": [
    "# For low-loss parallel plate waveguide:"
   ],
   "metadata": {
    "collapsed": false,
    "pycharm": {
     "name": "#%% md\n"
    }
   }
  },
  {
   "cell_type": "code",
   "execution_count": 43,
   "outputs": [],
   "source": [
    "#for parallel plate waveguide:\n",
    "def capacitance_per_length(epsilon_r, w, d, units = pF / m):\n",
    "  c = epsilon0 * epsilon_r * w / d\n",
    "  c.units = units\n",
    "  return c\n",
    "\n",
    "def inductance_per_length(mu_r, d, w, units = nH/m):\n",
    "  L = mu0*mu_r*d/w\n",
    "  L.units = units\n",
    "  return L\n",
    "\n",
    "def intrinsic_impedance_per_length(f, mu_r, sigma): #also called wave impedance and is defined as the ratio of E field over H field\n",
    "  #times two because there are two plates\n",
    "  return Units((2/w)*(1+1j)*((pi*f*mu_r*mu0)/sigma)**0.5, units = ohm/m)\n",
    "\n",
    "def conductance_per_length(sigma_dieletric, width_conductor, distance_dielectric):\n",
    "  return sigma_dieletric*width_conductor/distance_dielectric\n",
    "\n",
    "def loss_tangent(omega, epsilon, sigma): # eta\n",
    "  return (omega*imag(epsilon)+sigma)/(omega*real(epsilon))\n",
    "\n",
    "def Alpha(R, c, L, G):\n",
    "  return Units(0.5*(R*sqrt(c/L)+G*sqrt(L/c)), units = Np/m)\n",
    "\n",
    "def Beta(omega, L, capacitance):\n",
    "  return Units(omega*sqrt(L * capacitance), units = rad/m)\n",
    "\n",
    "def Gamma(alpha = None, beta = None, omega = None, R = None, C = None, L = None, G = None):\n",
    "  if alpha is not None and beta is not None:\n",
    "    return alpha + j*beta\n",
    "  else:\n",
    "    return sqrt((R + j*omega*L)*(G + j*omega*C))"
   ],
   "metadata": {
    "collapsed": false,
    "pycharm": {
     "name": "#%%\n"
    }
   }
  },
  {
   "cell_type": "code",
   "execution_count": 51,
   "outputs": [
    {
     "name": "stdout",
     "output_type": "stream",
     "text": [
      "212.50050760799994 pF/m\n",
      "157.07963267948963 nH/m\n",
      "1.1107207345395913 ohm/m\n",
      "8.0 mS/m\n",
      "0.12917921969133273 Np/m\n",
      "18.150550313417227 rad/m\n",
      "(0.12917921969133273+18.150550313417227j) 1/m\n"
     ]
    }
   ],
   "source": [
    "epsilon_r = 3; w = 20 * mm; d = 2.5 * mm; mu_r = 1; f = 500*MHz;\n",
    "sigma_conductor = 1.6e7 * S / m; sigma_dieletric = 1e-3 * S/m\n",
    "\n",
    "capacitance = capacitance_per_length(epsilon_r, w, d)\n",
    "print(capacitance)\n",
    "L = inductance_per_length(mu_r, d, w)\n",
    "print(L)\n",
    "R = real(intrinsic_impedance_per_length(f, mu_r, sigma_conductor))\n",
    "print(R)\n",
    "G = Units(conductance_per_length(sigma_dieletric, w, d), units = mS/m)\n",
    "print(G)\n",
    "alpha = Alpha(R, capacitance, L, G)\n",
    "print(alpha)\n",
    "beta = Beta(omega = 2*pi*f, L = L, capacitance = capacitance)\n",
    "print(beta)\n",
    "gamma = Gamma(alpha, beta)\n",
    "print(gamma.simplified)"
   ],
   "metadata": {
    "collapsed": false,
    "pycharm": {
     "name": "#%%\n"
    }
   }
  },
  {
   "cell_type": "markdown",
   "source": [
    "# 2\n",
    "\n",
    "## For lossy transmission line with parameters:\n",
    "\n",
    "$f = 100\\text{MHz}$\n",
    "<br></br>\n",
    "$Z_0 = 50 \\Omega$\n",
    "<br></br>\n",
    "$\\alpha = 0.01 \\frac{\\text{dB}}{\\text{m}}$\n",
    "<br></br>\n",
    "$\\beta = 0.8\\pi\\frac{\\text{rad}}{\\text{m}}$\n",
    "<br></br>\n",
    "Find $R, L, G,$ and $C$."
   ],
   "metadata": {
    "collapsed": false,
    "pycharm": {
     "name": "#%% md\n"
    }
   }
  },
  {
   "cell_type": "code",
   "execution_count": null,
   "outputs": [],
   "source": [
    "j = 1j\n",
    "def admittance_per_unit_length(G, C, omega):\n",
    "  return G + j*omega*C\n",
    "\n",
    "def characteristic_impedance_per_unit_length(R, L, omega):\n",
    "  return R + j*omega*L"
   ],
   "metadata": {
    "collapsed": false,
    "pycharm": {
     "name": "#%%\n"
    }
   }
  },
  {
   "cell_type": "markdown",
   "source": [
    "In general, $Z_0 = \\sqrt{\\frac{Z}{Y}}$, where $Z$ is the characteristic impedance and $Y$ is the characteristic admittance.  But when the reactance is zero, we have that\n",
    "$\\frac{Z}{Y} = \\frac{R}{G} = \\frac{L}{C} \\implies Z_0 = \\sqrt{\\frac{L}{C}}$.\n",
    "Also $\\alpha = R\\sqrt{\\frac{C}{L}}$.\n",
    "$\\beta$ is the same as for low-loss line, $\\beta = \\omega \\sqrt{LC}$\n"
   ],
   "metadata": {
    "collapsed": false,
    "pycharm": {
     "name": "#%% md\n"
    }
   }
  },
  {
   "cell_type": "markdown",
   "source": [
    "# 3\n",
    "## Low-loss Uniform 2 wire transmission line:\n",
    "$\\epsilon_r = 2.25$,\n",
    "a. Assuming $Z_0 = 300\\Omega$ and $r = 0.6 \\text{mm}$, find the distance of separation between the lines, call it $d$.\n",
    "## Coaxial cable\n",
    "b. For a coaxial line with $Z_0 = 75\\Omega$ and $r_\\text{center} = 0.6\\text{mm}$, find $r_\\text{outer}$"
   ],
   "metadata": {
    "collapsed": false,
    "pycharm": {
     "name": "#%% md\n"
    }
   }
  },
  {
   "cell_type": "code",
   "execution_count": null,
   "outputs": [],
   "source": [],
   "metadata": {
    "collapsed": false,
    "pycharm": {
     "name": "#%%\n"
    }
   }
  }
 ],
 "metadata": {
  "kernelspec": {
   "display_name": "Python 3",
   "language": "python",
   "name": "python3"
  },
  "language_info": {
   "codemirror_mode": {
    "name": "ipython",
    "version": 2
   },
   "file_extension": ".py",
   "mimetype": "text/x-python",
   "name": "python",
   "nbconvert_exporter": "python",
   "pygments_lexer": "ipython2",
   "version": "2.7.6"
  }
 },
 "nbformat": 4,
 "nbformat_minor": 0
}