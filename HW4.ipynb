{
 "cells": [
  {
   "cell_type": "code",
   "execution_count": 1,
   "metadata": {
    "collapsed": true,
    "pycharm": {
     "name": "#%%\n"
    }
   },
   "outputs": [],
   "source": [
    "import quantities as units\n",
    "from quantities import UnitQuantity, C, N, m, A, mm, V, F, \\\n",
    "  pF, H, ohm, Hz, MHz, S, s, kg, mS, rad\n",
    "from numpy import pi, log10, e, real, sqrt, imag, exp\n",
    "import numpy as np\n",
    "from sympy import latex, lambdify, symbols, solve, cosh, cos, sin, asin, acos, acosh\n",
    "from IPython.display import display, Math\n",
    "import re\n",
    "\n",
    "def Units(x, units):\n",
    "  x.units = units\n",
    "  return x"
   ]
  },
  {
   "cell_type": "code",
   "execution_count": 2,
   "outputs": [],
   "source": [
    "epsilon0 = 8.854187817 * 10**(-12) * C**2/(N*m**2)\n",
    "mu0 = 4*pi*10**(-7) * N/(A**2)\n",
    "\n",
    "Np = UnitQuantity('Np', 1) #neper is a dimensionless unit that functions like the decible but with base e instead of base 10\n",
    "dB = UnitQuantity('dB', Np/log10(e))\n",
    "nH = UnitQuantity('nH', H*1e-9)\n",
    "\n",
    "j = 1j"
   ],
   "metadata": {
    "collapsed": false,
    "pycharm": {
     "name": "#%%\n"
    }
   }
  },
  {
   "cell_type": "markdown",
   "source": [
    "# 1"
   ],
   "metadata": {
    "collapsed": false,
    "pycharm": {
     "name": "#%% md\n"
    }
   }
  },
  {
   "cell_type": "markdown",
   "source": [
    "Transmission line of parallel brass strips with $\\sigma_\\text{conductor} =1.6\\cdot 10^7 \\frac{\\text{S}}{\\text{m}}, w_\\text{conductor} = 20\\text{ mm}, \\epsilon_r=3, \\mu = \\mu_0$,\n",
    "$\\sigma_\\text{dielectric} = 10^{-3}\\frac{\\text{S}}{\\text{m}}, d_\\text{dieletric} = 2.5 \\text{ mm}, \\text{ and}, f = 500\\text{ MHz}$.\n",
    "1. Find $R, L, G$, and $C$\n",
    "2. Compare magnitiudes of the axial and transmission components of $E$ field.\n",
    "3. Find $\\gamma$ and $Z_0$."
   ],
   "metadata": {
    "collapsed": false,
    "pycharm": {
     "name": "#%% md\n"
    }
   }
  },
  {
   "cell_type": "markdown",
   "source": [
    "# For low-loss parallel plate waveguide:"
   ],
   "metadata": {
    "collapsed": false,
    "pycharm": {
     "name": "#%% md\n"
    }
   }
  },
  {
   "cell_type": "code",
   "execution_count": 3,
   "outputs": [],
   "source": [
    "#for parallel plate waveguide:\n",
    "def capacitance_per_length(epsilon_r, w, d, units = pF / m):\n",
    "  c = epsilon0 * epsilon_r * w / d\n",
    "  c.units = units\n",
    "  return c\n",
    "\n",
    "def inductance_per_length(mu_r, d, w, units = nH/m):\n",
    "  L = mu0*mu_r*d/w\n",
    "  L.units = units\n",
    "  return L\n",
    "\n",
    "def intrinsic_impedance_per_length(f, mu_r, sigma): #also called wave impedance and is defined as the ratio of E field over H field\n",
    "  #times two because there are two plates\n",
    "  return Units((2/w)*(1+1j)*((pi*f*mu_r*mu0)/sigma)**0.5, units = ohm/m)\n",
    "\n",
    "def conductance_per_length(sigma_dieletric, width_conductor, distance_dielectric):\n",
    "  return sigma_dieletric*width_conductor/distance_dielectric\n",
    "\n",
    "def loss_tangent(omega, epsilon, sigma): # eta\n",
    "  return (omega*imag(epsilon)+sigma)/(omega*real(epsilon))\n",
    "\n",
    "def Alpha(R, c, L, G):\n",
    "  return Units(0.5*(R*sqrt(c/L)+G*sqrt(L/c)), units = Np/m)\n",
    "\n",
    "def Beta(omega, L, capacitance):\n",
    "  return Units(omega*sqrt(L * capacitance), units = rad/m)\n",
    "\n",
    "def Gamma(alpha = None, beta = None, omega = None, R = None, C = None, L = None, G = None):\n",
    "  if alpha is not None and beta is not None:\n",
    "    return alpha + j*beta\n",
    "  else:\n",
    "    return sqrt((R + j*omega*L)*(G + j*omega*C))"
   ],
   "metadata": {
    "collapsed": false,
    "pycharm": {
     "name": "#%%\n"
    }
   }
  },
  {
   "cell_type": "code",
   "execution_count": 4,
   "outputs": [
    {
     "name": "stdout",
     "output_type": "stream",
     "text": [
      "212.50050760799994 pF/m\n",
      "157.07963267948963 nH/m\n",
      "1.1107207345395913 ohm/m\n",
      "8.0 mS/m\n",
      "0.12917921969133273 Np/m\n",
      "18.150550313417227 rad/m\n",
      "(0.12917921969133273+18.150550313417227j) 1/m\n"
     ]
    }
   ],
   "source": [
    "epsilon_r = 3; w = 20 * mm; d = 2.5 * mm; mu_r = 1; f = 500*MHz;\n",
    "sigma_conductor = 1.6e7 * S / m; sigma_dieletric = 1e-3 * S/m\n",
    "\n",
    "capacitance = capacitance_per_length(epsilon_r, w, d)\n",
    "print(capacitance)\n",
    "L = inductance_per_length(mu_r, d, w)\n",
    "print(L)\n",
    "R = real(intrinsic_impedance_per_length(f, mu_r, sigma_conductor))\n",
    "print(R)\n",
    "G = Units(conductance_per_length(sigma_dieletric, w, d), units = mS/m)\n",
    "print(G)\n",
    "alpha = Alpha(R, capacitance, L, G)\n",
    "print(alpha)\n",
    "beta = Beta(omega = 2*pi*f, L = L, capacitance = capacitance)\n",
    "print(beta)\n",
    "gamma = Gamma(alpha, beta)\n",
    "print(gamma.simplified)"
   ],
   "metadata": {
    "collapsed": false,
    "pycharm": {
     "name": "#%%\n"
    }
   }
  },
  {
   "cell_type": "markdown",
   "source": [
    "# 2\n",
    "\n",
    "## For lossy transmission line with parameters:\n",
    "\n",
    "$f = 100\\text{MHz}$\n",
    "<br></br>\n",
    "$Z_0 = 50 \\Omega$\n",
    "<br></br>\n",
    "$\\alpha = 0.01 \\frac{\\text{dB}}{\\text{m}}$\n",
    "<br></br>\n",
    "$\\beta = 0.8\\pi\\frac{\\text{rad}}{\\text{m}}$\n",
    "<br></br>\n",
    "Find $R, L, G,$ and $C$."
   ],
   "metadata": {
    "collapsed": false,
    "pycharm": {
     "name": "#%% md\n"
    }
   }
  },
  {
   "cell_type": "code",
   "execution_count": 5,
   "outputs": [],
   "source": [
    "def admittance_per_unit_length(G, C, omega):\n",
    "  return G + j*omega*C\n",
    "\n",
    "def characteristic_impedance_per_unit_length(R, L, omega):\n",
    "  return R + j*omega*L"
   ],
   "metadata": {
    "collapsed": false,
    "pycharm": {
     "name": "#%%\n"
    }
   }
  },
  {
   "cell_type": "markdown",
   "source": [
    "In general, $Z_0 = \\sqrt{\\frac{Z}{Y}}$, where $Z$ is the characteristic impedance and $Y$ is the characteristic admittance.  But when the reactance is zero, we have that\n",
    "$\\frac{Z}{Y} = \\frac{R}{G} = \\frac{L}{C} \\implies Z_0 = \\sqrt{\\frac{L}{C}}$.\n",
    "Also $\\alpha = R\\sqrt{\\frac{C}{L}}$.\n",
    "$\\beta$ is the same as for low-loss line, $\\beta = \\omega \\sqrt{LC}$\n"
   ],
   "metadata": {
    "collapsed": false,
    "pycharm": {
     "name": "#%% md\n"
    }
   }
  },
  {
   "cell_type": "markdown",
   "source": [
    "# 3\n",
    "## Low-loss Uniform 2 wire transmission line:\n",
    "$\\epsilon_r = 2.25$,\n",
    "a. Assuming $Z_0 = 300\\Omega$ and $r = 0.6 \\text{mm}$, find the distance of separation between the lines, call it $d$.\n",
    "## Low-loss Coaxial cable\n",
    "b. For a coaxial line with $Z_0 = 75\\Omega$ and $r_\\text{center} = 0.6\\text{mm}$, find $r_\\text{outer}$"
   ],
   "metadata": {
    "collapsed": false,
    "pycharm": {
     "name": "#%% md\n"
    }
   }
  },
  {
   "cell_type": "markdown",
   "source": [
    "### a"
   ],
   "metadata": {
    "collapsed": false,
    "pycharm": {
     "name": "#%% md\n"
    }
   }
  },
  {
   "cell_type": "code",
   "execution_count": 6,
   "outputs": [
    {
     "data": {
      "text/plain": "<IPython.core.display.Math object>",
      "text/latex": "$\\displaystyle \\text{For low loss line:} \\\\ C = \\frac{\\pi \\epsilon_{0} \\epsilon_{r}}{\\cosh^{{-1}}{\\left(\\frac{d}{2 r} \\right)}}\\implies d = 2 r \\cosh{\\left(\\frac{\\pi \\epsilon_{0} \\epsilon_{r}}{C} \\right)} \\\\ \\text{For low loss line:} \\\\ Z_0 = \\sqrt{\\frac{L}{C} } = \\sqrt{\\frac{\\mu_0}{\\epsilon_0 \\epsilon_r} }\\frac{ \\cosh^{-1}\\left(\\frac{d}{2r}\\right) }{\\pi} \\implies d = 2 r \\cosh{\\left(\\frac{\\pi Z_{0}}{\\sqrt{\\frac{\\mu_{0}}{\\epsilon_{0} \\epsilon_{r}}}} \\right)}$"
     },
     "metadata": {},
     "output_type": "display_data"
    }
   ],
   "source": [
    "import sympy as sy\n",
    "Cap, d, r, epsilon_0, epsilonr, mu_0, Z_0 = symbols(['C', 'd', 'r', 'epsilon_0', 'epsilon_r', 'mu_0', 'Z_0'])\n",
    "capacitance_equation = Cap - (sy.pi*epsilonr*epsilon_0)/acosh(d/(2*r))\n",
    "\n",
    "distance_equation = solve(capacitance_equation, d)[0]\n",
    "distance_equation2 = solve(Z_0 - sy.sqrt(mu_0/(epsilon_0*epsilonr))*acosh(d/(2*r))/sy.pi, d)[0]\n",
    "\n",
    "display(Math(\n",
    "        f'\\\\text{{For low loss line:}} \\\\\\ C = {latex((capacitance_equation-Cap)*-1).replace(\"operatorname{acosh}\",\"cosh^{{-1}}\")}\\implies d = {latex(distance_equation)} \\\\\\ \\\\text{{For low loss line:}} '\n",
    "        f'\\\\\\ Z_0 = \\sqrt{{\\\\frac{{L}}{{C}} }} = \\sqrt{{\\\\frac{{\\mu_0}}{{\\epsilon_0 \\epsilon_r}} }}'\n",
    "        f'\\\\frac{{ \\cosh^{{-1}}\\\\left(\\\\frac{{d}}{{2r}}\\\\right) }}{{\\pi}} \\implies d = {latex(distance_equation2)}'\n",
    "        ))"
   ],
   "metadata": {
    "collapsed": false,
    "pycharm": {
     "name": "#%%\n"
    }
   }
  },
  {
   "cell_type": "code",
   "execution_count": 7,
   "outputs": [
    {
     "name": "stdout",
     "output_type": "stream",
     "text": [
      "25.593041954420634 mm\n"
     ]
    }
   ],
   "source": [
    "import numpy as np\n",
    "def distance(r, Z_0, epsilonr):\n",
    "  epsilon  = epsilon0*epsilonr\n",
    "  return 2*r*np.cosh(pi*Z_0/np.sqrt(mu0/epsilon))\n",
    "\n",
    "r = 0.6*mm\n",
    "d = distance(r, Z_0 = 300*ohm, epsilonr = 2.25)\n",
    "print(str(d))"
   ],
   "metadata": {
    "collapsed": false,
    "pycharm": {
     "name": "#%%\n"
    }
   }
  },
  {
   "cell_type": "markdown",
   "source": [
    "### b"
   ],
   "metadata": {
    "collapsed": false,
    "pycharm": {
     "name": "#%% md\n"
    }
   }
  },
  {
   "cell_type": "code",
   "execution_count": 8,
   "outputs": [
    {
     "data": {
      "text/plain": "<IPython.core.display.Math object>",
      "text/latex": "$\\displaystyle r_\\text{total} = r_{\\text{center}} e^{\\frac{2 \\pi Z_{0}}{\\sqrt{\\frac{\\mu_{0}}{\\epsilon_{0} \\epsilon_{r}}}}}$"
     },
     "metadata": {},
     "output_type": "display_data"
    },
    {
     "data": {
      "text/plain": "<IPython.core.display.Math object>",
      "text/latex": "$\\displaystyle r_\\text{outer} = r_{center} e^{\\frac{2 \\pi Z_{0}}{\\sqrt{\\frac{\\mu_{0}}{\\epsilon_{0} \\epsilon_{r}}}}} - r_{center}$"
     },
     "metadata": {},
     "output_type": "display_data"
    }
   ],
   "source": [
    "def capacitance_coax_cable(epsilonr, r_center, r_outer):\n",
    "  r_total = r_center + r_outer\n",
    "  return 2*pi*epsilon0*epsilonr/np.log(r_total/r_center)\n",
    "\n",
    "def inductance_coax_cable(r_center, r_outer):\n",
    "  r_total = r_center + r_outer\n",
    "  return (mu0/(2*pi))*np.log(r_total/r_center)\n",
    "\n",
    "r_total, r_center,epsilon_0, epsilonr, mu_0, Z_0 = symbols(['r_total', 'r_center', 'epsilon_0', 'epsilon_r', 'mu_0', 'Z_0'])\n",
    "r_total = solve(Z_0 - sy.sqrt(mu_0/(epsilon_0*epsilonr))*sy.log(r_total/r_center)/(2*sy.pi), r_total)[0]\n",
    "r_outer = r_total - r_center\n",
    "display(Math(\"r_\\\\text{total} = \" + latex(r_total).replace('{center}', '{\\\\text{center}}')))\n",
    "display(Math(\"r_\\\\text{outer} = \" + latex(r_outer).replace('{outer}', '{\\\\text{outer}}')))\n"
   ],
   "metadata": {
    "collapsed": false,
    "pycharm": {
     "name": "#%%\n"
    }
   }
  },
  {
   "cell_type": "code",
   "execution_count": 9,
   "outputs": [
    {
     "data": {
      "text/plain": "array(3.91757332) * mm"
     },
     "execution_count": 9,
     "metadata": {},
     "output_type": "execute_result"
    }
   ],
   "source": [
    "def R_outer(r_center, Z_0, epsilonr):\n",
    "  epsilon  = epsilon0*epsilonr\n",
    "  return r_center*(exp((2*pi*Z_0/np.sqrt(mu0/epsilon)).simplified) - 1)\n",
    "\n",
    "Z0 = 75*ohm\n",
    "r_center = 0.6*mm\n",
    "R_outer(r_center, Z0, 2.25)+r_center"
   ],
   "metadata": {
    "collapsed": false,
    "pycharm": {
     "name": "#%%\n"
    }
   }
  },
  {
   "cell_type": "markdown",
   "source": [
    "# 4"
   ],
   "metadata": {
    "collapsed": false,
    "pycharm": {
     "name": "#%% md\n"
    }
   }
  },
  {
   "cell_type": "markdown",
   "source": [
    "# Lossless Air-Spaced Transmission Line"
   ],
   "metadata": {
    "collapsed": false,
    "pycharm": {
     "name": "#%% md\n"
    }
   }
  },
  {
   "cell_type": "markdown",
   "source": [
    "$Z_0 = 50 \\Omega$\n",
    "<br></br>\n",
    "$Z_{\\text{output}} = 40+30j \\Omega$\n",
    "<br></br>\n",
    "$f=200\\text{ MHz}$\n",
    "<br></br>\n",
    "$L=2\\text{ m}$\n",
    "\n",
    "Find $Z_{\\text{in}}$"
   ],
   "metadata": {
    "collapsed": false,
    "pycharm": {
     "name": "#%% md\n"
    }
   }
  },
  {
   "cell_type": "code",
   "execution_count": 10,
   "outputs": [
    {
     "data": {
      "text/plain": "array(26.2629178-9.65007119j) * ohm"
     },
     "execution_count": 10,
     "metadata": {},
     "output_type": "execute_result"
    }
   ],
   "source": [
    "def input_impedance(Z0, Z_out, Length, f):\n",
    "  beta = (2*np.pi*f*np.sqrt(mu0*epsilon0)).simplified\n",
    "  return Z0*(Z_out+Z0*j*np.tan(beta*Length))/(Z0+Z_out*j*np.tan(beta*Length))\n",
    "\n",
    "input_impedance(Z0 = 50*ohm, Z_out = (40+30j)*ohm, Length = 2*m, f = 200*1e6*Hz)\n",
    "\n"
   ],
   "metadata": {
    "collapsed": false,
    "pycharm": {
     "name": "#%%\n"
    }
   }
  },
  {
   "cell_type": "code",
   "execution_count": null,
   "outputs": [],
   "source": [],
   "metadata": {
    "collapsed": false,
    "pycharm": {
     "name": "#%%\n"
    }
   }
  }
 ],
 "metadata": {
  "kernelspec": {
   "display_name": "Python 3",
   "language": "python",
   "name": "python3"
  },
  "language_info": {
   "codemirror_mode": {
    "name": "ipython",
    "version": 2
   },
   "file_extension": ".py",
   "mimetype": "text/x-python",
   "name": "python",
   "nbconvert_exporter": "python",
   "pygments_lexer": "ipython2",
   "version": "2.7.6"
  }
 },
 "nbformat": 4,
 "nbformat_minor": 0
}