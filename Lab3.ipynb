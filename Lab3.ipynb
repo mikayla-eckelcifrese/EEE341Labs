{
 "cells": [
  {
   "cell_type": "code",
   "execution_count": 83,
   "metadata": {
    "pycharm": {
     "name": "#%%\n"
    }
   },
   "outputs": [],
   "source": [
    "from quantities import UnitQuantity, C, N, m, A, mm, V, F, pF, H, ohm, Hz, MHz, S, s, kg, mS, rad, degree, GHz\n",
    "from numpy import pi, log10, e, real, sqrt, imag, exp\n",
    "import numpy as np\n",
    "from sympy import latex, lambdify, symbols, solve, cosh, cos, sin, asin, acos, acosh\n",
    "from IPython.display import display, Math\n",
    "import skrf as rf\n",
    "rf.stylely()\n",
    "from scipy.optimize import minimize\n",
    "\n",
    "\n",
    "def Units(x, units):\n",
    "    x.units = units\n",
    "    return x\n",
    "\n",
    "def split_off_units(x, decimal_places = None):\n",
    "    if decimal_places is not None:\n",
    "        x = round(x, decimal_places)\n",
    "    x = str(x)\n",
    "    return f'{x.split()[0]} \\\\text{{{x.split()[1]} }}' \n",
    "\n",
    "epsilon0 = 8.854187817 * 10 ** (-12) * C ** 2 / (N * m ** 2)\n",
    "mu0 = 4 * pi * 10 ** (-7) * N / (A ** 2)\n",
    "light_speed = 299792458 * m/s\n",
    "\n",
    "j = 1j"
   ]
  },
  {
   "cell_type": "markdown",
   "metadata": {
    "pycharm": {
     "name": "#%% md\n"
    }
   },
   "source": [
    "# Prelab\n",
    "---\n",
    "1. Design a quarter-wave matching transformer to match a $10 \\Omega$ load to a $50 \\Omega$ line. Assume a design frequency of $300\\text{MHz}$.\n",
    "\n",
    "The matching equation for a quarter-wave transformer is:\n",
    "$$Z_0 = \\sqrt{Z_\\text{in}(0.25\\lambda)Z_L}$$\n",
    "\n",
    "Assuming the wave propagates in free space, the wavelength is given by $$\\lambda =\\frac{c}{f}$$ and so $$L=\\frac{c}{4f}$$"
   ]
  },
  {
   "cell_type": "markdown",
   "metadata": {
    "pycharm": {
     "name": "#%% md\n"
    }
   },
   "source": [
    "# Prelab\n",
    "---\n",
    "1. Design a quarter-wave matching transformer to match a $10 \\Omega$ load to a $50 \\Omega$ line. Assume a design frequency of $300\\text{MHz}$.\n",
    "\n",
    "The matching equation for a quarter-wave transformer is:\n",
    "$$Z_0 = \\sqrt{Z_\\text{in}(L = 0.25\\lambda)Z_L}$$\n",
    "\n",
    "Assuming the wave propagates in free space, the wavelength is given by $$\\lambda =\\frac{c}{f}$$ and so $$L=\\frac{c}{4f}$$"
   ]
  },
  {
   "cell_type": "code",
   "execution_count": 84,
   "metadata": {
    "pycharm": {
     "name": "#%%\n"
    }
   },
   "outputs": [
    {
     "data": {
      "text/latex": [
       "$\\displaystyle Z_0 = 22.361 \\text{ohm }$"
      ],
      "text/plain": [
       "<IPython.core.display.Math object>"
      ]
     },
     "metadata": {},
     "output_type": "display_data"
    },
    {
     "data": {
      "text/latex": [
       "$\\displaystyle L = 24.983 \\text{cm }$"
      ],
      "text/plain": [
       "<IPython.core.display.Math object>"
      ]
     },
     "metadata": {},
     "output_type": "display_data"
    }
   ],
   "source": [
    "Z_in = 50*ohm\n",
    "Z_L = 10*ohm\n",
    "f = 300*MHz\n",
    "\n",
    "Z0 = np.sqrt(Z_in*Z_L)\n",
    "display(Math(f'Z_0 = {split_off_units(Z0, 3)}'))\n",
    "\n",
    "L = Units(light_speed/(4*f), 'cm')\n",
    "display(Math(f'L = {split_off_units(L, 3)}'))"
   ]
  },
  {
   "cell_type": "markdown",
   "metadata": {
    "pycharm": {
     "name": "#%% md\n"
    }
   },
   "source": [
    "2. Design a single-stub tuner to match a load impedance comprising a\n",
    "series RC where $R = 60\\Omega$ and $C = 0.995\\text{pF}$ to a $50\\Omega$ line. Assume a\n",
    "design frequency of $2\\text{GHz}$. \n",
    "Find the solution using the shortest length\n",
    "of open-circuited stub."
   ]
  },
  {
   "cell_type": "code",
   "execution_count": 85,
   "metadata": {
    "pycharm": {
     "name": "#%%\n"
    }
   },
   "outputs": [],
   "source": [
    "f = 2*GHz\n",
    "Z_L = 60*ohm + 1/(j*2*pi*f*0.995*pF)\n",
    "Z_0 = 50*ohm\n",
    "#f_0_str = '2GHz'\n",
    "\n",
    "# Frequency, wavenumber and transmission line media\n",
    "freq = rf.Frequency(start=1, stop=3, npoints=301, unit='GHz')\n",
    "k = freq.w / rf.c #angular frequency over speed of light\n",
    "line = rf.DefinedGammaZ0(freq, gamma= k*j, z0=Z_0)\n",
    "\n",
    "def resulting_network(theta_delay, theta_stub):\n",
    "    \"\"\"\n",
    "    Return a loaded single stub matching network\n",
    "\n",
    "    NB: theta_delay and theta_stub lengths are in deg\n",
    "    \"\"\"\n",
    "    delay_load = line.delay_load(rf.zl_2_Gamma0(Z_0, Z_L), theta_delay)\n",
    "    shunted_stub = line.shunt_delay_open(theta_stub)\n",
    "    return shunted_stub ** delay_load\n",
    "\n",
    "def optim_fun(x):\n",
    "    return resulting_network(*x)['2GHz'].s_mag.ravel()\n",
    "\n",
    "x0 = (50, 50)\n",
    "bnd = (0, 180)\n",
    "theta_delay, theta_stub = minimize(optim_fun, x0, bounds=(bnd, bnd)).x \n",
    "\n",
    "line_delay_length = Units(res.x[0]*degree*light_speed/(360*degree*f), 'cm')\n",
    "stub_length = Units(res.x[1]*degree*light_speed/(360*degree*f), 'cm')"
   ]
  },
  {
   "cell_type": "code",
   "execution_count": 86,
   "metadata": {
    "pycharm": {
     "name": "#%%\n"
    }
   },
   "outputs": [
    {
     "data": {
      "text/latex": [
       "$\\displaystyle \\theta_{\\text{delay}} = 93.401 ^\\circ$"
      ],
      "text/plain": [
       "<IPython.core.display.Math object>"
      ]
     },
     "metadata": {},
     "output_type": "display_data"
    },
    {
     "data": {
      "text/latex": [
       "$\\displaystyle \\theta_{\\text{stub}}=55.802 ^\\circ$"
      ],
      "text/plain": [
       "<IPython.core.display.Math object>"
      ]
     },
     "metadata": {},
     "output_type": "display_data"
    },
    {
     "data": {
      "text/latex": [
       "$\\displaystyle \\text{Distance between stub and load} = 1.655 \\text{cm }$"
      ],
      "text/plain": [
       "<IPython.core.display.Math object>"
      ]
     },
     "metadata": {},
     "output_type": "display_data"
    },
    {
     "data": {
      "text/latex": [
       "$\\displaystyle \\text{Stub length} = 1.424 \\text{cm }$"
      ],
      "text/plain": [
       "<IPython.core.display.Math object>"
      ]
     },
     "metadata": {},
     "output_type": "display_data"
    }
   ],
   "source": [
    "display(Math(f'\\\\theta_{{\\\\text{{delay}}}} = {round(theta_delay, 3)} ^\\\\circ' ))\n",
    "display(Math(f'\\\\theta_{{\\\\text{{stub}}}}={round(theta_stub, 3)} ^\\\\circ'))\n",
    "\n",
    "display(Math(f'\\\\text{{Distance between stub and load}} = {split_off_units(round(line_delay_length, 3))}'))\n",
    "display(Math(f'\\\\text{{Stub length}} = {split_off_units(round(stub_length, 3))}'))"
   ]
  },
  {
   "cell_type": "code",
   "execution_count": null,
   "metadata": {},
   "outputs": [],
   "source": []
  }
 ],
 "metadata": {
  "kernelspec": {
   "display_name": "Python 3 (ipykernel)",
   "language": "python",
   "name": "python3"
  },
  "language_info": {
   "codemirror_mode": {
    "name": "ipython",
    "version": 3
   },
   "file_extension": ".py",
   "mimetype": "text/x-python",
   "name": "python",
   "nbconvert_exporter": "python",
   "pygments_lexer": "ipython3",
   "version": "3.11.0"
  }
 },
 "nbformat": 4,
 "nbformat_minor": 1
}