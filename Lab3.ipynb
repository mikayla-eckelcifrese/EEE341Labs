{
 "cells": [
  {
   "cell_type": "code",
   "execution_count": null,
   "outputs": [],
   "source": [
    "from quantities import m, pF, ohm, Hz, MHz, s, degree, GHz\n",
    "\n",
    "import numpy as np\n",
    "\n",
    "from sympy import latex\n",
    "from IPython.display import display, Math\n",
    "\n",
    "import skrf as rf\n",
    "from scipy.optimize import minimize\n",
    "\n",
    "\n",
    "def Units(x, units):\n",
    "    x.units = units\n",
    "    return x\n",
    "\n",
    "def split_off_units(x, decimal_places = None):\n",
    "    if decimal_places is not None:\n",
    "        x = round(x, decimal_places)\n",
    "    x = str(x)\n",
    "    return f'{x.split()[0]} \\\\text{{{x.split()[1]} }}' \n",
    "\n",
    "\n",
    "light_speed = 299792458 * m/s\n",
    "\n",
    "j = 1j"
   ],
   "metadata": {
    "collapsed": false,
    "pycharm": {
     "name": "#%%\n"
    }
   }
  },
  {
   "cell_type": "markdown",
   "source": [
    "# Prelab Section\n",
    "---\n",
    "### 1.\n",
    "Design a quarter-wave matching transformer to match a $10 \\Omega$ load to a $50 \\Omega$ line. Assume a design frequency of $300\\text{MHz}$.\n"
   ],
   "metadata": {
    "collapsed": false,
    "pycharm": {
     "name": "#%% md\n"
    }
   }
  },
  {
   "cell_type": "markdown",
   "source": [
    "The matching equation for a quarter-wave transformer is:\n",
    "$$Z_0 = \\sqrt{Z_\\text{in}(L=0.25\\lambda)Z_L}$$\n",
    "\n",
    "Assuming the wave propagates in free space, the wavelength is given by $$\\lambda =\\frac{c}{f}$$ and so $$L=\\frac{c}{4f}$$"
   ],
   "metadata": {
    "collapsed": false,
    "pycharm": {
     "name": "#%% md\n"
    }
   }
  },
  {
   "cell_type": "code",
   "execution_count": null,
   "outputs": [],
   "source": [
    "Z_in = 50*ohm\n",
    "Z_L = 10*ohm\n",
    "f = 300*MHz\n",
    "\n",
    "Z0 = np.sqrt(Z_in*Z_L)\n",
    "display(Math(f'Z_0 = {split_off_units(Z0, 3)}'))\n",
    "\n",
    "L = Units(light_speed/(4*f), 'cm')\n",
    "display(Math(f'L = {split_off_units(L, 3)}'))"
   ],
   "metadata": {
    "collapsed": false,
    "pycharm": {
     "name": "#%%\n"
    }
   }
  },
  {
   "cell_type": "markdown",
   "source": [
    "### 2. \n",
    "Design a single-stub tuner to match a load impedance comprising a\n",
    "series RC where $R = 60\\Omega$ and $C = 0.995\\text{pF}$ to a $50\\Omega$ line. Assume a\n",
    "design frequency of $2\\text{GHz}$. \n",
    "Find the solution using the shortest length\n",
    "of open-circuited stub."
   ],
   "metadata": {
    "collapsed": false,
    "pycharm": {
     "name": "#%% md\n"
    }
   }
  },
  {
   "cell_type": "code",
   "execution_count": null,
   "outputs": [],
   "source": [
    "f = 2*GHz\n",
    "Z_L = 60*ohm + 1/(j*2*pi*f*0.995*pF)\n",
    "Z_0 = 50*ohm\n",
    "\n",
    "# Frequency, wavenumber and transmission line media\n",
    "freq = rf.Frequency(start=1, stop=3, npoints=301, unit='GHz')\n",
    "k = freq.w / rf.c #angular frequency over speed of light\n",
    "line = rf.DefinedGammaZ0(freq, gamma= k*j, z0=Z_0)\n",
    "\n",
    "def resulting_network(theta_delay, theta_stub):\n",
    "    \"\"\"\n",
    "    Return a loaded single stub matching network\n",
    "\n",
    "    NB: theta_delay and theta_stub lengths are in deg\n",
    "    \"\"\"\n",
    "    delay_load = line.delay_load(rf.zl_2_Gamma0(Z_0, Z_L), theta_delay)\n",
    "    shunted_stub = line.shunt_delay_open(theta_stub)\n",
    "    return shunted_stub ** delay_load\n",
    "\n",
    "def optim_fun(x):\n",
    "    return resulting_network(x[0], x[1])['2GHz'].s_mag.ravel()\n",
    "\n",
    "x0 = (50, 50)\n",
    "bnd = (0, 180)\n",
    "theta_delay, theta_stub = minimize(optim_fun, x0, bounds=(bnd, bnd)).x \n",
    "\n",
    "line_delay_length = Units(theta_delay*degree*light_speed/(360*degree*f), 'cm')\n",
    "stub_length = Units(theta_stub*degree*light_speed/(360*degree*f), 'cm')"
   ],
   "metadata": {
    "collapsed": false,
    "pycharm": {
     "name": "#%%\n"
    }
   }
  },
  {
   "cell_type": "code",
   "execution_count": null,
   "outputs": [],
   "source": [
    "display(Math(f'\\\\theta_{{\\\\text{{delay}}}} = {round(theta_delay, 3)} ^\\\\circ' ))\n",
    "display(Math(f'\\\\theta_{{\\\\text{{stub}}}}={round(theta_stub, 3)} ^\\\\circ'))\n",
    "\n",
    "display(Math(f'\\\\text{{Distance between stub and load}} = {split_off_units(round(line_delay_length, 3))}'))\n",
    "display(Math(f'\\\\text{{Stub length}} = {split_off_units(round(stub_length, 3))}'))"
   ],
   "metadata": {
    "collapsed": false,
    "pycharm": {
     "name": "#%%\n"
    }
   }
  },
  {
   "cell_type": "markdown",
   "source": [
    "# Lab Section\n",
    "---\n",
    "### 1.\n",
    "Quarter-wave transformer matching network:"
   ],
   "metadata": {
    "collapsed": false,
    "pycharm": {
     "name": "#%% md\n"
    }
   }
  },
  {
   "cell_type": "markdown",
   "source": [
    "![image-2.png](attachment:image-2.png)"
   ],
   "metadata": {
    "collapsed": false,
    "pycharm": {
     "name": "#%% md\n"
    }
   }
  },
  {
   "cell_type": "markdown",
   "source": [
    "![image.png](attachment:image.png)"
   ],
   "metadata": {
    "collapsed": false,
    "pycharm": {
     "name": "#%% md\n"
    }
   }
  },
  {
   "cell_type": "markdown",
   "source": [
    "#### a. \n",
    "When you plot the $S_{11}$ for the quarter-wave transformer matching network, you should see additional frequencies at which the load is matched to the source. Why is that happening?"
   ],
   "metadata": {
    "collapsed": false,
    "pycharm": {
     "name": "#%% md\n"
    }
   }
  },
  {
   "cell_type": "markdown",
   "source": [
    "For a quarter-wave matching network, the load and input reactances are matched (or, more specifically, they're the negatives of each other) whenever $L = (2n+1)\\frac{\\lambda}{4}$, for $n = 0, 1, 2, 3...$.  Since $f\\propto \\frac{c}{\\lambda}$ and $\\Gamma$ is a function of load reactance, we get this dependency of $\\Gamma$ on $f$."
   ],
   "metadata": {
    "collapsed": false,
    "pycharm": {
     "name": "#%% md\n"
    }
   }
  },
  {
   "cell_type": "markdown",
   "source": [
    "### 2. \n",
    "Single-stub matching network:"
   ],
   "metadata": {
    "collapsed": false,
    "pycharm": {
     "name": "#%% md\n"
    }
   }
  },
  {
   "cell_type": "markdown",
   "source": [
    "![image.png](attachment:image.png)"
   ],
   "metadata": {
    "collapsed": false,
    "pycharm": {
     "name": "#%% md\n"
    }
   }
  },
  {
   "cell_type": "markdown",
   "source": [
    "![image-2.png](attachment:image-2.png)"
   ],
   "metadata": {
    "collapsed": false,
    "pycharm": {
     "name": "#%% md\n"
    }
   }
  },
  {
   "cell_type": "markdown",
   "source": [
    "#### a.\n",
    "\n",
    "There is another single-stub solution using open-circuited stub to match the RC load to 50\\Omega transmission line. Design that matching network, implement it in ADS (using ideal component) and plot $S_{11}$. "
   ],
   "metadata": {
    "collapsed": false,
    "pycharm": {
     "name": "#%% md\n"
    }
   }
  },
  {
   "cell_type": "code",
   "execution_count": null,
   "outputs": [],
   "source": [
    "x0 = (40, 90) #initial guess for minimization function to use\n",
    "bnd = (0, 180)\n",
    "theta_delay, theta_stub = minimize(optim_fun, x0, bounds=(bnd, bnd), method='Nelder-Mead').x \n",
    "\n",
    "line_delay_length = Units(theta_delay*degree*light_speed/(360*degree*f), 'cm')\n",
    "stub_length = Units(theta_stub*degree*light_speed/(360*degree*f), 'cm')"
   ],
   "metadata": {
    "collapsed": false,
    "pycharm": {
     "name": "#%%\n"
    }
   }
  },
  {
   "cell_type": "code",
   "execution_count": null,
   "outputs": [],
   "source": [
    "display(Math(f'\\\\theta_{{\\\\text{{delay}}}} = {round(theta_delay, 3)} ^\\\\circ' ))\n",
    "display(Math(f'\\\\theta_{{\\\\text{{stub}}}}={round(theta_stub, 3)} ^\\\\circ'))\n",
    "\n",
    "display(Math(f'\\\\text{{Distance between stub and load}} = {split_off_units(round(line_delay_length, 3))}'))\n",
    "display(Math(f'\\\\text{{Stub length}} = {split_off_units(round(stub_length, 3))}'))"
   ],
   "metadata": {
    "collapsed": false,
    "pycharm": {
     "name": "#%%\n"
    }
   }
  },
  {
   "cell_type": "markdown",
   "source": [
    "![image.png](attachment:image.png)"
   ],
   "metadata": {
    "collapsed": false,
    "pycharm": {
     "name": "#%% md\n"
    }
   }
  },
  {
   "cell_type": "markdown",
   "source": [
    "![image.png](attachment:image.png)"
   ],
   "metadata": {
    "collapsed": false,
    "pycharm": {
     "name": "#%% md\n"
    }
   }
  },
  {
   "cell_type": "markdown",
   "source": [
    "#### b.\n",
    "Compare your results for this solution to the ones for your original solution."
   ],
   "metadata": {
    "collapsed": false,
    "pycharm": {
     "name": "#%% md\n"
    }
   }
  },
  {
   "cell_type": "markdown",
   "source": [
    "The results for the second solution don't match the chosen frequency of $2\\text{GHz}$ as well -- the reflection coefficient has a minimum closer to 1.8 then 2.0.  Also, the total distance given by distance between stub and load + stub length is larger for the second solution."
   ],
   "metadata": {
    "collapsed": false,
    "pycharm": {
     "name": "#%% md\n"
    }
   }
  },
  {
   "cell_type": "raw",
   "source": [],
   "metadata": {
    "collapsed": false,
    "pycharm": {
     "name": "#%% raw\n"
    }
   }
  },
  {
   "attachments": {
    "image.png": {
     "image/png": "[encoded data removed]"
    }
   },
   "cell_type": "markdown",
   "metadata": {},
   "source": [
    "![image.png](attachment:image.png)"
   ]
  },
  {
   "cell_type": "markdown",
   "metadata": {},
   "source": [
    "#### b.\n",
    "Compare your results for this solution to the ones for your original solution."
   ]
  },
  {
   "cell_type": "markdown",
   "metadata": {},
   "source": [
    "The results for the second solution don't match the chosen frequency of $2\\text{GHz}$ as well -- the reflection coefficient has a minimum closer to 1.8 then 2.0.  Also, the total distance given by distance between stub and load + stub length is larger for the second solution."
   ]
  },
  {
   "cell_type": "raw",
   "metadata": {},
   "source": []
  }
 ],
 "metadata": {
  "kernelspec": {
   "display_name": "Python 3 (ipykernel)",
   "language": "python",
   "name": "python3"
  },
  "language_info": {
   "codemirror_mode": {
    "name": "ipython",
    "version": 3
   },
   "file_extension": ".py",
   "mimetype": "text/x-python",
   "name": "python",
   "nbconvert_exporter": "python",
   "pygments_lexer": "ipython3",
   "version": "3.11.0"
  }
 },
 "nbformat": 4,
 "nbformat_minor": 1
}