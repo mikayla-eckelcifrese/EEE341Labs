{
 "cells": [
  {
   "cell_type": "code",
   "execution_count": null,
   "outputs": [],
   "source": [
    "from quantities import UnitQuantity, C, N, m, A, mm, V, F, pF, H, ohm, Hz, MHz, S, s, kg, mS, rad, degree, GHz\n",
    "from numpy import pi, log10, e, real, sqrt, imag, exp\n",
    "import numpy as np\n",
    "from sympy import latex, lambdify, symbols, solve, cosh, cos, sin, asin, acos, acosh\n",
    "from IPython.display import display, Math\n",
    "import skrf as rf\n",
    "rf.stylely()\n",
    "from scipy.optimize import minimize\n",
    "\n",
    "\n",
    "def Units(x, units):\n",
    "    x.units = units\n",
    "    return x\n",
    "\n",
    "def split_off_units(x, decimal_places = None):\n",
    "    if decimal_places is not None:\n",
    "        x = round(x, decimal_places)\n",
    "    x = str(x)\n",
    "    return f'{x.split()[0]} \\\\text{{ {x.split()[1]} }}' \n",
    "\n",
    "epsilon0 = 8.854187817 * 10 ** (-12) * C ** 2 / (N * m ** 2)\n",
    "mu0 = 4 * pi * 10 ** (-7) * N / (A ** 2)\n",
    "light_speed = 299792458 * m/s\n",
    "\n"
   ],
   "metadata": {
    "collapsed": false,
    "pycharm": {
     "name": "#%%\n"
    }
   }
  },
  {
   "cell_type": "markdown",
   "source": [
    "# Prelab\n",
    "---\n",
    "1. Design a quarter-wave matching transformer to match a $10 \\Omega$ load to a $50 \\Omega$ line. Assume a design frequency of $300\\text{MHz}$.\n",
    "\n",
    "The matching equation for a quarter-wave transformer is:\n",
    "$$Z_0 = \\sqrt{Z_\\text{in}(0.25\\lambda)Z_L}$$\n",
    "\n",
    "Assuming the wave propagates in free space, the wavelength is given by $$\\lambda =\\frac{c}{f}$$ and so $$L=\\frac{c}{4f}$$"
   ],
   "metadata": {
    "collapsed": false,
    "pycharm": {
     "name": "#%% md\n"
    }
   }
  },
  {
   "cell_type": "markdown",
   "source": [
    "# Prelab\n",
    "---\n",
    "1. Design a quarter-wave matching transformer to match a $10 \\Omega$ load to a $50 \\Omega$ line. Assume a design frequency of $300\\text{MHz}$.\n",
    "\n",
    "The matching equation for a quarter-wave transformer is:\n",
    "$$Z_0 = \\sqrt{Z_\\text{in}(L = 0.25\\lambda)Z_L}$$\n",
    "\n",
    "Assuming the wave propagates in free space, the wavelength is given by $$\\lambda =\\frac{c}{f}$$ and so $$L=\\frac{c}{4f}$$"
   ],
   "metadata": {
    "collapsed": false,
    "pycharm": {
     "name": "#%% md\n"
    }
   }
  },
  {
   "cell_type": "code",
   "execution_count": null,
   "outputs": [],
   "source": [
    "Z_in = 50*ohm\n",
    "Z_L = 10*ohm\n",
    "f = 300*MHz\n",
    "\n",
    "Z0 = np.sqrt(Z_in*Z_L)\n",
    "display(Math(f'Z_0 = {split_off_units(Z0, 3)}'))\n",
    "\n",
    "L = Units(light_speed/(4*f), 'cm')\n",
    "display(Math(f'L = {split_off_units(L, 3)}'))"
   ],
   "metadata": {
    "collapsed": false,
    "pycharm": {
     "name": "#%%\n"
    }
   }
  },
  {
   "cell_type": "markdown",
   "source": [
    "2. Design a single-stub tuner to match a load impedance comprising a\n",
    "series RC where $R = 60\\Omega$ and $C = 0.995\\text{pF}$ to a $50\\Omega$ line. Assume a\n",
    "design frequency of $2\\text{GHz}$. \n",
    "Find the solution using the shortest length\n",
    "of open-circuited stub."
   ],
   "metadata": {
    "collapsed": false,
    "pycharm": {
     "name": "#%% md\n"
    }
   }
  },
  {
   "cell_type": "code",
   "execution_count": null,
   "outputs": [],
   "source": [
    "Z_L = 60 - 80j\n",
    "Z_0 = 50\n",
    "f_0_str = '2GHz'\n",
    "# Frequency, wavenumber and transmission line media\n",
    "freq = rf.Frequency(start=1, stop=3, npoints=301, unit='GHz')\n",
    "beta = freq.w/rf.c\n",
    "line = rf.DefinedGammaZ0(freq, gamma=1j*beta, z0=Z_0)\n",
    "\n",
    "def resulting_network(theta_delay, theta_stub):\n",
    "    \"\"\"\n",
    "    Return a loaded single stub matching network\n",
    "\n",
    "    NB: theta_delay and theta_stub lengths are in deg\n",
    "    \"\"\"\n",
    "    delay_load = line.delay_load(rf.zl_2_Gamma0(Z_0, Z_L), theta_delay)\n",
    "    shunted_stub = line.shunt_delay_short(theta_stub)\n",
    "    return shunted_stub ** delay_load"
   ],
   "metadata": {
    "collapsed": false,
    "pycharm": {
     "name": "#%%\n"
    }
   }
  },
  {
   "cell_type": "markdown",
   "source": [],
   "metadata": {
    "collapsed": false,
    "pycharm": {
     "name": "#%% md\n"
    }
   }
  }
 ],
 "metadata": {
  "kernelspec": {
   "display_name": "Python 3 (ipykernel)",
   "language": "python",
   "name": "python3"
  },
  "language_info": {
   "codemirror_mode": {
    "name": "ipython",
    "version": 3
   },
   "file_extension": ".py",
   "mimetype": "text/x-python",
   "name": "python",
   "nbconvert_exporter": "python",
   "pygments_lexer": "ipython3",
   "version": "3.11.0"
  }
 },
 "nbformat": 4,
 "nbformat_minor": 1
}