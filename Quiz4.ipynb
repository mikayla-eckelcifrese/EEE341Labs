{
 "cells": [
  {
   "cell_type": "code",
   "execution_count": 1,
   "metadata": {
    "collapsed": true,
    "pycharm": {
     "name": "#%%\n"
    }
   },
   "outputs": [],
   "source": [
    "import quantities as units\n",
    "from quantities import UnitQuantity, C, N, m, A, mm, V, F, pF, H, ohm, Hz, MHz, S, s, kg, mS, rad\n",
    "from numpy import pi, log10, e, real, sqrt, imag, exp\n",
    "import numpy as np\n",
    "from sympy import latex, lambdify, symbols, solve, cosh, cos, sin, asin, acos, acosh\n",
    "from IPython.display import display, Math\n",
    "import re\n",
    "\n",
    "\n",
    "def Units(x, units):\n",
    "\tx.units = units\n",
    "\treturn x\n",
    "\n",
    "\n",
    "epsilon0 = 8.854187817 * 10 ** (-12) * C ** 2 / (N * m ** 2)\n",
    "mu0 = 4 * pi * 10 ** (-7) * N / (A ** 2)\n",
    "\n",
    "Np = UnitQuantity('Np',\n",
    "\t\t\t\t\t\t\t\t\t1)  #neper is a dimensionless unit that functions like the decible but with base e instead of base 10\n",
    "dB = UnitQuantity('dB', Np / log10(e))\n",
    "nH = UnitQuantity('nH', H * 1e-9)\n",
    "\n",
    "j = 1j\n"
   ]
  },
  {
   "cell_type": "markdown",
   "source": [
    "# 1\n",
    "\n",
    "### Low-loss coax cable\n",
    "\n",
    "$Z_0 = 75 \\Omega$\n",
    "<br></br>\n",
    "$V_F = \\frac{V_p}{c} = 0.667$\n"
   ],
   "metadata": {
    "collapsed": false,
    "pycharm": {
     "name": "#%% md\n"
    }
   }
  },
  {
   "cell_type": "code",
   "execution_count": null,
   "outputs": [],
   "source": [],
   "metadata": {
    "collapsed": false,
    "pycharm": {
     "name": "#%%\n"
    }
   }
  }
 ],
 "metadata": {
  "kernelspec": {
   "display_name": "Python 3",
   "language": "python",
   "name": "python3"
  },
  "language_info": {
   "codemirror_mode": {
    "name": "ipython",
    "version": 2
   },
   "file_extension": ".py",
   "mimetype": "text/x-python",
   "name": "python",
   "nbconvert_exporter": "python",
   "pygments_lexer": "ipython2",
   "version": "2.7.6"
  }
 },
 "nbformat": 4,
 "nbformat_minor": 0
}