{
 "cells": [
  {
   "cell_type": "code",
   "execution_count": 2,
   "metadata": {
    "pycharm": {
     "name": "#%%\n"
    }
   },
   "outputs": [],
   "source": [
    "import quantities as units\n",
    "from quantities import UnitQuantity, C, N, m, A, mm, V, F, pF, H, ohm, Hz, MHz, S, s, kg, mS, rad\n",
    "from numpy import pi, log10, e, real, sqrt, imag, exp\n",
    "import numpy as np\n",
    "from sympy import latex, lambdify, symbols, solve, cosh, cos, sin, asin, acos, acosh\n",
    "from IPython.display import display, Math\n",
    "import re\n",
    "\n",
    "\n",
    "def Units(x, units):\n",
    "    x.units = units\n",
    "    return x\n",
    "\n",
    "\n",
    "epsilon0 = 8.854187817 * 10 ** (-12) * C ** 2 / (N * m ** 2)\n",
    "mu0 = 4 * pi * 10 ** (-7) * N / (A ** 2)\n",
    "\n",
    "Np = UnitQuantity('Np', 1)  '''neper is a dimensionless unit that functions \n",
    "                               like the decible but with base e instead of base 10'''\n",
    "dB = UnitQuantity('dB', Np / log10(e))\n",
    "nH = UnitQuantity('nH', H * 1e-9)\n",
    "\n",
    "j = 1j\n"
   ]
  },
  {
   "cell_type": "markdown",
   "metadata": {
    "pycharm": {
     "name": "#%% md\n"
    }
   },
   "source": [
    "# Low-loss coax cable\n",
    "\n",
    "$Z_0 = 75 \\Omega$\n",
    "<br></br>\n",
    "$V_F = \\frac{V_p}{c} = 0.667 = \\frac{1}{\\sqrt{\\mu_r \\epsilon_r}}$\n",
    "<br></br>\n",
    "$\\alpha = 0.5 \\frac{\\text{dB}}{\\text{m}}$\n"
   ]
  },
  {
   "cell_type": "markdown",
   "metadata": {
    "pycharm": {
     "name": "#%% md\n"
    }
   },
   "source": [
    "# 1\n",
    "\n",
    "Assuming that the dielectric material used in constructing the coaxial cable is non-magnetic material, what is the value of its dielectric constant (relative permittivity)?  Express your answer as a dimensionless quantity to two places after the decimal.\n",
    "\n",
    "By definition, \n",
    "\n",
    "$V_F = \\frac{V_p}{c}  = \\frac{1}{\\sqrt{\\mu_r \\epsilon_r}}$ and since the material is non-magnetic in this case,\n",
    "we can assume $\\mu_r = 1$.  Hence, $\\epsilon_r = V_F^{-2}$.\n"
   ]
  },
  {
   "cell_type": "code",
   "execution_count": 5,
   "metadata": {
    "pycharm": {
     "name": "#%%\n"
    }
   },
   "outputs": [
    {
     "data": {
      "text/plain": "2.25"
     },
     "execution_count": 5,
     "metadata": {},
     "output_type": "execute_result"
    }
   ],
   "source": [
    "epsilon_r = 0.667**(-2)\n",
    "round(epsilon_r, 2)"
   ]
  },
  {
   "cell_type": "markdown",
   "source": [
    "# 2\n",
    "What is the capacitance per unit length of this coaxial cable?  Express your answer in pF/m to one place after the decimal.\n",
    "\n",
    "For a coaxial cable, capacitance is given by the equation:\n",
    "\n",
    "$C = \\frac{2\\pi\\epsilon}{\\ln\\frac{b}{a}}$\n",
    "\n",
    "And we can find $a$ and $b$ using the equation for characteristic impedance for a coax cable:\n",
    "\n",
    "$Z_0  =  \\frac{1}{2\\pi}\\sqrt{\\frac{\\mu}{\\epsilon}}\\ln\\frac{b}{a} \\implies \\ln \\frac{b}{a} = 2\\pi Z_0 \\sqrt{\\frac{\\epsilon}{\\mu}}$\n",
    "\n",
    "Hence, \n",
    "\n",
    "$C = \\frac{2\\pi\\epsilon}{2\\pi Z_0 \\sqrt{\\frac{\\epsilon}{\\mu}}} = \\frac{\\epsilon}{ Z_0 \\sqrt{\\frac{\\epsilon}{\\mu}}}$\n",
    "\n"
   ],
   "metadata": {
    "collapsed": false,
    "pycharm": {
     "name": "#%% md\n"
    }
   }
  },
  {
   "cell_type": "code",
   "execution_count": 21,
   "outputs": [
    {
     "data": {
      "text/plain": "array(100.019) * pF/m"
     },
     "execution_count": 21,
     "metadata": {},
     "output_type": "execute_result"
    }
   ],
   "source": [
    "epsilon = epsilon0*epsilon_r\n",
    "mu = mu0\n",
    "Z0 = 50*ohm\n",
    "\n",
    "cap_per_length = epsilon / (Z0 * sqrt(epsilon / mu))\n",
    "cap_per_length.units = pF / m\n",
    "round(cap_per_length, 3)"
   ],
   "metadata": {
    "collapsed": false,
    "pycharm": {
     "name": "#%%\n"
    }
   }
  },
  {
   "cell_type": "markdown",
   "source": [
    "# 3\n"
   ],
   "metadata": {
    "collapsed": false,
    "pycharm": {
     "name": "#%% md\n"
    }
   }
  }
 ],
 "metadata": {
  "kernelspec": {
   "display_name": "Python 3 (ipykernel)",
   "language": "python",
   "name": "python3"
  },
  "language_info": {
   "codemirror_mode": {
    "name": "ipython",
    "version": 3
   },
   "file_extension": ".py",
   "mimetype": "text/x-python",
   "name": "python",
   "nbconvert_exporter": "python",
   "pygments_lexer": "ipython3",
   "version": "3.11.0"
  }
 },
 "nbformat": 4,
 "nbformat_minor": 1
}