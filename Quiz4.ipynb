{
 "cells": [
  {
   "cell_type": "code",
   "execution_count": 3,
   "metadata": {
    "pycharm": {
     "name": "#%%\n"
    }
   },
   "outputs": [],
   "source": [
    "import quantities as units\n",
    "from quantities import UnitQuantity, C, N, m, A, mm, V, F, pF, H, ohm, Hz, MHz, S, s, kg, mS, rad, degree, GHz, cm\n",
    "from numpy import pi, log10, e, real, sqrt, imag, exp\n",
    "import numpy as np\n",
    "from sympy import latex, lambdify, symbols, solve, cosh, cos, sin, asin, acos, acosh\n",
    "from IPython.display import display, Math\n",
    "import re\n",
    "\n",
    "\n",
    "def Units(x, units):\n",
    "    x.units = units\n",
    "    return x\n",
    "\n",
    "\n",
    "epsilon0 = 8.854187817 * 10 ** (-12) * C ** 2 / (N * m ** 2)\n",
    "mu0 = 4 * pi * 10 ** (-7) * N / (A ** 2)\n",
    "light_speed = 299792458 * m/s\n",
    "\n",
    "\n",
    "Np = UnitQuantity('Np', 1);  '''neper is a dimensionless unit that functions \n",
    "                               like the decible but with base e instead of base 10'''\n",
    "\n",
    "dB = UnitQuantity('dB', Np * np.log(10)/20)\n",
    "nH = UnitQuantity('nH', H * 1e-9)\n",
    "\n",
    "j = 1j"
   ]
  },
  {
   "cell_type": "code",
   "execution_count": 9,
   "outputs": [
    {
     "data": {
      "text/plain": "array(29.9792458) * GHz"
     },
     "execution_count": 9,
     "metadata": {},
     "output_type": "execute_result"
    }
   ],
   "source": [
    "Units(10*light_speed/(2*5*cm*(1)**0.5), 'GHz')"
   ],
   "metadata": {
    "collapsed": false,
    "pycharm": {
     "name": "#%%\n"
    }
   }
  },
  {
   "cell_type": "code",
   "execution_count": null,
   "outputs": [],
   "source": [
    "light_speed*(1/)"
   ],
   "metadata": {
    "collapsed": false,
    "pycharm": {
     "name": "#%%\n"
    }
   }
  },
  {
   "cell_type": "markdown",
   "metadata": {
    "pycharm": {
     "name": "#%% md\n"
    }
   },
   "source": [
    "# Low-loss coax cable\n",
    "\n",
    "$Z_0 = 75 \\Omega$\n",
    "<br></br>\n",
    "$V_F = \\frac{V_p}{c} = 0.667 = \\frac{1}{\\sqrt{\\mu_r \\epsilon_r}}$\n",
    "<br></br>\n",
    "$\\alpha = 0.5 \\frac{\\text{dB}}{\\text{m}}$\n"
   ]
  },
  {
   "cell_type": "markdown",
   "metadata": {
    "pycharm": {
     "name": "#%% md\n"
    }
   },
   "source": [
    "# 1\n",
    "\n",
    "Assuming that the dielectric material used in constructing the coaxial cable is non-magnetic material, what is the value of its dielectric constant (relative permittivity)?  Express your answer as a dimensionless quantity to two places after the decimal.\n",
    "\n",
    "By definition, \n",
    "\n",
    "$V_F = \\frac{V_p}{c}  = \\frac{1}{\\sqrt{\\mu_r \\epsilon_r}}$ and since the material is non-magnetic in this case,\n",
    "we can assume $\\mu_r = 1$.  Hence, $\\epsilon_r = V_F^{-2}$.\n"
   ]
  },
  {
   "cell_type": "code",
   "execution_count": 53,
   "metadata": {
    "pycharm": {
     "name": "#%%\n"
    }
   },
   "outputs": [
    {
     "data": {
      "text/plain": "2.25"
     },
     "execution_count": 53,
     "metadata": {},
     "output_type": "execute_result"
    }
   ],
   "source": [
    "epsilon_r = 0.667**(-2)\n",
    "round(epsilon_r, 2)"
   ]
  },
  {
   "cell_type": "markdown",
   "metadata": {
    "pycharm": {
     "name": "#%% md\n"
    }
   },
   "source": [
    "# 2\n",
    "What is the capacitance per unit length of this coaxial cable?  Express your answer in pF/m to one place after the decimal.\n",
    "\n",
    "For a coaxial cable, capacitance is given by the equation:\n",
    "\n",
    "$C = \\frac{2\\pi\\epsilon}{\\ln\\frac{b}{a}}$\n",
    "\n",
    "And we can find $a$ and $b$ using the equation for characteristic impedance for a coax cable:\n",
    "\n",
    "$Z_0  =  \\frac{1}{2\\pi}\\sqrt{\\frac{\\mu}{\\epsilon}}\\ln\\frac{b}{a} \\implies \\ln \\frac{b}{a} = 2\\pi Z_0 \\sqrt{\\frac{\\epsilon}{\\mu}}$\n",
    "\n",
    "Hence, \n",
    "\n",
    "$C = \\frac{2\\pi\\epsilon}{2\\pi Z_0 \\sqrt{\\frac{\\epsilon}{\\mu}}} = \\frac{\\epsilon}{ Z_0 \\sqrt{\\frac{\\epsilon}{\\mu}}}$\n",
    "\n"
   ]
  },
  {
   "cell_type": "code",
   "execution_count": 55,
   "metadata": {
    "pycharm": {
     "name": "#%%\n"
    }
   },
   "outputs": [
    {
     "data": {
      "text/plain": "array(66.679) * pF/m"
     },
     "execution_count": 55,
     "metadata": {},
     "output_type": "execute_result"
    }
   ],
   "source": [
    "epsilon = epsilon0*epsilon_r\n",
    "mu = mu0\n",
    "Z0 = 75*ohm\n",
    "\n",
    "cap_per_length = epsilon / (Z0 * sqrt(epsilon / mu))\n",
    "cap_per_length.units = pF / m\n",
    "round(cap_per_length, 3)"
   ]
  },
  {
   "cell_type": "markdown",
   "metadata": {
    "pycharm": {
     "name": "#%% md\n"
    }
   },
   "source": [
    "# 3\n",
    "What is the physical length of cable corresponding to an electrical length of 151.4 degrees at 1 GHz?   (Hint: the period corresponding to frequency of 1 GHz is 1 ns.)  Express your answer in millimeters to one place after the decimal.\n",
    "\n",
    "The definition of electrical length is:\n",
    "\n",
    "$G_{EL} = \\frac{lf}{v_p}$\n",
    "\n",
    "For the EL expressed as an angle, this is multiplied by $360^\\circ$ or $2\\pi \\text{ rad}$.\n",
    "\n",
    "Hence, \n",
    "\n",
    "$l = \\frac{G_{EL}\\cdot v_p}{360^\\circ f}$"
   ]
  },
  {
   "cell_type": "code",
   "execution_count": 59,
   "metadata": {
    "pycharm": {
     "name": "#%%\n"
    }
   },
   "outputs": [
    {
     "data": {
      "text/plain": "array(84.1) * mm"
     },
     "execution_count": 59,
     "metadata": {},
     "output_type": "execute_result"
    }
   ],
   "source": [
    "Electrical_length = 151.4*degree\n",
    "v_p = 0.667*light_speed\n",
    "f = 1*GHz\n",
    "\n",
    "l = Units(Electrical_length*v_p/(360*degree*f), mm)\n",
    "round(l, 1)"
   ]
  },
  {
   "cell_type": "markdown",
   "metadata": {
    "pycharm": {
     "name": "#%% md\n"
    }
   },
   "source": [
    "# 4\n",
    "\n",
    "If the cable were lossless, what would be the magnitude (absolute value) of the input impedance looking into a half-wave section of this line terminated in a short circuit?  Type your answer in ohms to one place after the decimal.  If your answer is infinity type '1000000.0'.\n",
    "\n",
    "The input impedance of a short-circuited transmission line is:\n",
    "\n",
    "$Z_{sc} = jZ_0 \\tan \\beta l$\n",
    "<br></br>\n",
    "$\\beta = \\frac{2\\pi}{\\lambda} = \\frac{2\\pi V_p}{f}$\n",
    "\n",
    "ALso, $\\beta l$ is the electrical length, which is $180^\\circ$ for a halfwave.  Hence, $\\beta l = 180^\\circ \\implies\n",
    "Z_{sc} = jZ_0 \\tan 180^\\circ = 0$."
   ]
  },
  {
   "cell_type": "markdown",
   "metadata": {
    "pycharm": {
     "name": "#%% md\n"
    }
   },
   "source": [
    "# 5\n",
    "What is the attenuation constant of this transmission line?  Express your answer in _Nepers per meter_ to four places after the decimal."
   ]
  },
  {
   "cell_type": "code",
   "execution_count": 60,
   "metadata": {
    "pycharm": {
     "name": "#%%\n"
    }
   },
   "outputs": [
    {
     "data": {
      "text/plain": "array(0.0576) * Np/m"
     },
     "execution_count": 60,
     "metadata": {},
     "output_type": "execute_result"
    }
   ],
   "source": [
    "alpha = Units(0.5*dB/m, Np/m)\n",
    "round(alpha, 4)"
   ]
  },
  {
   "cell_type": "markdown",
   "source": [
    "# 6\n",
    "### Which equation below gives the input impedance for a short-circuited piece of *lossy* transmission line?\n",
    "<br></br>\n",
    "$Z_{\\text{sc}} = jZ_0 \\tanh \\gamma l$"
   ],
   "metadata": {
    "collapsed": false,
    "pycharm": {
     "name": "#%% md\n"
    }
   }
  },
  {
   "cell_type": "markdown",
   "metadata": {
    "pycharm": {
     "name": "#%% md\n"
    }
   },
   "source": [
    "# 7\n",
    "What is the magnitude (absolute value) of the input impedance of a short-circuited half-wave section of cable at 1 GHz?\n",
    "\n",
    "Express your answer in ohms to three places after the decimal.\n",
    "\n",
    "To get $\\gamma$ and plug it into the formula from question 6, we need to get $\\beta$.  For linear media, $\\beta$ is simply the wavenumber so we have that $\\beta = \\frac{2\\pi}{\\lambda}$.  We can get $\\lambda$ using the formula\n",
    "$v_p = \\lambda f \\implies \\lambda = \\frac{v_p}{f}$.\n",
    "\n",
    "Hence, $\\beta = \\frac{2\\pi f}{v_p}$\n",
    "\n",
    "We also need $l$ and we can get that using the fact that, for a halfwave section, $\\beta l = 180^\\circ \\implies l = \\frac{180^\\circ}{\\beta} = \\frac{\\pi}{\\beta}$.\n",
    "\n",
    "Hence, $Z_{\\text{sc}} = jZ_0 \\tanh \\left(l(\\alpha + j\\beta)\\right) = jZ_0 \\tanh \\left(\\frac{\\pi}{\\frac{2\\pi f}{v_p}}\\left(\\alpha + j\\frac{2\\pi f}{v_p}\\right)\\right) =  jZ_0 \\tanh \\left(\\frac{v_p}{2f}\\left(\\alpha + j\\frac{2\\pi f}{v_p}\\right)\\right)$"
   ]
  },
  {
   "cell_type": "code",
   "execution_count": 66,
   "outputs": [
    {
     "data": {
      "text/plain": "array(0.432) * ohm"
     },
     "execution_count": 66,
     "metadata": {},
     "output_type": "execute_result"
    }
   ],
   "source": [
    "f = 1*GHz\n",
    "z_in = j*Z0*np.tanh(((v_p/(2*f))*(alpha+j*2*pi*f/v_p)).simplified)\n",
    "round(abs(z_in),3)"
   ],
   "metadata": {
    "collapsed": false,
    "pycharm": {
     "name": "#%%\n"
    }
   }
  },
  {
   "cell_type": "code",
   "execution_count": null,
   "outputs": [],
   "source": [],
   "metadata": {
    "collapsed": false,
    "pycharm": {
     "name": "#%%\n"
    }
   }
  }
 ],
 "metadata": {
  "kernelspec": {
   "display_name": "Python 3 (ipykernel)",
   "language": "python",
   "name": "python3"
  },
  "language_info": {
   "codemirror_mode": {
    "name": "ipython",
    "version": 3
   },
   "file_extension": ".py",
   "mimetype": "text/x-python",
   "name": "python",
   "nbconvert_exporter": "python",
   "pygments_lexer": "ipython3",
   "version": "3.11.0"
  }
 },
 "nbformat": 4,
 "nbformat_minor": 1
}